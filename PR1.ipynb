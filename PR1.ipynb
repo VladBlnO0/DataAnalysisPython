{
 "cells": [
  {
   "metadata": {},
   "cell_type": "markdown",
   "source": [
    "<center> Практична робота №1 </center>\n",
    "<center> з дисципліни «Аналіз даних з використанням Python» </center>\n",
    "<center> на тему «Основи Python. Списки і словники» </center>\n",
    "<center> Варіант №3 </center>\n",
    "\n",
    "<div style=\"margin-left: 80%;\"> Виконав: </div>\n",
    "<div style=\"margin-left: 80%;\"> ст. гр. АС-227 </div>\n",
    "<div style=\"margin-left: 80%;\"> Бліняєв В.О. </div>\n",
    "<div style=\"margin-left: 80%;\"> Перевірив: </div>\n",
    "<div style=\"margin-left: 80%;\"> ст. в. Штефан Н.З. </div>\n"
   ],
   "id": "8de401ee7d86c2c2"
  },
  {
   "cell_type": "markdown",
   "id": "4191c3ae1cfe11d7",
   "metadata": {},
   "source": [
    "### Завдання 1"
   ]
  },
  {
   "cell_type": "markdown",
   "id": "1fcab3a952075c46",
   "metadata": {},
   "source": [
    "### <center> Lab 1. Intro to Python for Data Science <center>"
   ]
  },
  {
   "cell_type": "markdown",
   "id": "7127a22f382693ee",
   "metadata": {},
   "source": [
    "#### Part 1: Variables, Strings, and Numbers"
   ]
  },
  {
   "cell_type": "code",
   "id": "e5d1930a8f3d67fc",
   "metadata": {
    "collapsed": true,
    "ExecuteTime": {
     "end_time": "2025-09-04T09:36:39.974708Z",
     "start_time": "2025-09-04T09:36:39.972530Z"
    }
   },
   "source": [
    "message = \"Hello Python world!\"\n",
    "print(message)\n",
    "\n",
    "message = \"Python is my favorite language!\"\n",
    "print(message)"
   ],
   "outputs": [
    {
     "name": "stdout",
     "output_type": "stream",
     "text": [
      "Hello Python world!\n",
      "Python is my favorite language!\n"
     ]
    }
   ],
   "execution_count": 36
  },
  {
   "cell_type": "markdown",
   "id": "ce3ec94599bc0d96",
   "metadata": {},
   "source": [
    "#### Exercises"
   ]
  },
  {
   "cell_type": "code",
   "id": "3fc16bdfc98991b6",
   "metadata": {
    "ExecuteTime": {
     "end_time": "2025-09-04T09:36:40.021061Z",
     "start_time": "2025-09-04T09:36:40.019061Z"
    }
   },
   "source": [
    "# Hello World - variable\n",
    "mine_message = \"Hello World!\"\n",
    "print(mine_message)\n",
    "\n",
    "# One Variable, Two Messages\n",
    "mine_message = \"World Hello!\"\n",
    "print(mine_message)"
   ],
   "outputs": [
    {
     "name": "stdout",
     "output_type": "stream",
     "text": [
      "Hello World!\n",
      "World Hello!\n"
     ]
    }
   ],
   "execution_count": 37
  },
  {
   "cell_type": "code",
   "id": "45aea07611f4a3c3",
   "metadata": {
    "ExecuteTime": {
     "end_time": "2025-09-04T09:36:40.073304Z",
     "start_time": "2025-09-04T09:36:40.069311Z"
    }
   },
   "source": [
    "my_string = \"This is a double-quoted string.\"\n",
    "my_string = 'This is a single-quoted string.'\n",
    "quote = \"Linus Torvalds once said, 'Any program is only as good as it is useful.'\""
   ],
   "outputs": [],
   "execution_count": 38
  },
  {
   "cell_type": "code",
   "id": "be6aad966e179e3",
   "metadata": {
    "ExecuteTime": {
     "end_time": "2025-09-04T09:36:40.127524Z",
     "start_time": "2025-09-04T09:36:40.124620Z"
    }
   },
   "source": [
    "first_name = 'eric'\n",
    "print(first_name)\n",
    "print(first_name.title())"
   ],
   "outputs": [
    {
     "name": "stdout",
     "output_type": "stream",
     "text": [
      "eric\n",
      "Eric\n"
     ]
    }
   ],
   "execution_count": 39
  },
  {
   "cell_type": "code",
   "id": "9810caebb4c3b433",
   "metadata": {
    "ExecuteTime": {
     "end_time": "2025-09-04T09:36:40.189769Z",
     "start_time": "2025-09-04T09:36:40.184048Z"
    }
   },
   "source": [
    "first_name = 'eric'\n",
    "print(first_name)\n",
    "print(first_name.title())\n",
    "print(first_name.upper())\n",
    "\n",
    "first_name = 'Eric'\n",
    "print(first_name.lower())"
   ],
   "outputs": [
    {
     "name": "stdout",
     "output_type": "stream",
     "text": [
      "eric\n",
      "Eric\n",
      "ERIC\n",
      "eric\n"
     ]
    }
   ],
   "execution_count": 40
  },
  {
   "cell_type": "code",
   "id": "25f8e07600cbf0b5",
   "metadata": {
    "ExecuteTime": {
     "end_time": "2025-09-04T09:36:40.274627Z",
     "start_time": "2025-09-04T09:36:40.271346Z"
    }
   },
   "source": [
    "first_name = 'ada'\n",
    "last_name = 'lovelace'\n",
    "full_name = first_name + ' ' + last_name\n",
    "print(full_name.title())"
   ],
   "outputs": [
    {
     "name": "stdout",
     "output_type": "stream",
     "text": [
      "Ada Lovelace\n"
     ]
    }
   ],
   "execution_count": 41
  },
  {
   "cell_type": "code",
   "id": "e047c5b591b64e95",
   "metadata": {
    "ExecuteTime": {
     "end_time": "2025-09-04T09:36:40.335340Z",
     "start_time": "2025-09-04T09:36:40.330658Z"
    }
   },
   "source": [
    "first_name = 'ada'\n",
    "last_name = 'lovelace'\n",
    "full_name = first_name + ' ' + last_name\n",
    "message = full_name.title() + ' ' + \"was considered the world's first computer programmer.\"\n",
    "print(message)"
   ],
   "outputs": [
    {
     "name": "stdout",
     "output_type": "stream",
     "text": [
      "Ada Lovelace was considered the world's first computer programmer.\n"
     ]
    }
   ],
   "execution_count": 42
  },
  {
   "cell_type": "code",
   "id": "f862d6ef0fccbf50",
   "metadata": {
    "ExecuteTime": {
     "end_time": "2025-09-04T09:36:40.402295Z",
     "start_time": "2025-09-04T09:36:40.394353Z"
    }
   },
   "source": [
    "print(\"Hello everyone!\")\n",
    "print(\"\\tHello everyone!\")\n",
    "print(\"Hello \\teveryone!\")\n",
    "\n",
    "print(\"Hello everyone!\")\n",
    "print(\"\\nHello everyone!\")\n",
    "print(\"Hello \\neveryone!\")\n",
    "print(\"\\n\\n\\nHello everyone!\")"
   ],
   "outputs": [
    {
     "name": "stdout",
     "output_type": "stream",
     "text": [
      "Hello everyone!\n",
      "\tHello everyone!\n",
      "Hello \teveryone!\n",
      "Hello everyone!\n",
      "\n",
      "Hello everyone!\n",
      "Hello \n",
      "everyone!\n",
      "\n",
      "\n",
      "\n",
      "Hello everyone!\n"
     ]
    }
   ],
   "execution_count": 43
  },
  {
   "cell_type": "code",
   "id": "3548ea06b00924b6",
   "metadata": {
    "ExecuteTime": {
     "end_time": "2025-09-04T09:36:40.460826Z",
     "start_time": "2025-09-04T09:36:40.455694Z"
    }
   },
   "source": [
    "name = ' eric '\n",
    "print(name.lstrip())\n",
    "print(name.rstrip())\n",
    "print(name.strip())"
   ],
   "outputs": [
    {
     "name": "stdout",
     "output_type": "stream",
     "text": [
      "eric \n",
      " eric\n",
      "eric\n"
     ]
    }
   ],
   "execution_count": 44
  },
  {
   "cell_type": "markdown",
   "id": "e3b6f463ebdc6395",
   "metadata": {},
   "source": [
    "#### Exercises"
   ]
  },
  {
   "cell_type": "code",
   "id": "698d5bb558212ed0",
   "metadata": {
    "ExecuteTime": {
     "end_time": "2025-09-04T09:36:40.526887Z",
     "start_time": "2025-09-04T09:36:40.522332Z"
    }
   },
   "source": [
    "# Someone Said\n",
    "st_quote = \"“If you wait by the river long enough, the bodies of your enemies will float by.” ― Sun Tzu \"\n",
    "print(st_quote)\n",
    "\n",
    "# First Name Cases\n",
    "f_name = \"vladyslav\"\n",
    "print(f_name.lower())\n",
    "print(f_name.title())\n",
    "print(f_name.upper())\n",
    "\n",
    "# Full Name\n",
    "first_name = \"Vladyslav\"\n",
    "last_name = \"Bliniaev\"\n",
    "full_name = first_name + ' ' + last_name\n",
    "print(full_name)\n",
    "\n",
    "# About This Person\n",
    "first_name = \"Sun\"\n",
    "last_name = \"Tzu\"\n",
    "full_name = first_name + ' ' + last_name\n",
    "message = full_name.title() + ' ' + \"was a Chinese philosopher\"\n",
    "print(message)\n",
    "\n",
    "# Name Strip\n",
    "name = \" Vladyslav \"\n",
    "print(name.lstrip())\n",
    "print(name.rstrip())\n",
    "print(name.strip())"
   ],
   "outputs": [
    {
     "name": "stdout",
     "output_type": "stream",
     "text": [
      "“If you wait by the river long enough, the bodies of your enemies will float by.” ― Sun Tzu \n",
      "vladyslav\n",
      "Vladyslav\n",
      "VLADYSLAV\n",
      "Vladyslav Bliniaev\n",
      "Sun Tzu was a Chinese philosopher\n",
      "Vladyslav \n",
      " Vladyslav\n",
      "Vladyslav\n"
     ]
    }
   ],
   "execution_count": 45
  },
  {
   "cell_type": "code",
   "id": "c1e09a3428626289",
   "metadata": {
    "ExecuteTime": {
     "end_time": "2025-09-04T09:36:40.589112Z",
     "start_time": "2025-09-04T09:36:40.584157Z"
    }
   },
   "source": [
    "print(3 + 2)\n",
    "print(3 - 2)\n",
    "print(3 * 2)\n",
    "print(3 / 2)\n",
    "print(3 ** 2)\n",
    "\n",
    "standard_order = 2 + 3 * 4\n",
    "print(standard_order)\n",
    "my_order = (2 + 3) * 4\n",
    "print(my_order)\n",
    "\n",
    "print(0.1 + 0.1)"
   ],
   "outputs": [
    {
     "name": "stdout",
     "output_type": "stream",
     "text": [
      "5\n",
      "1\n",
      "6\n",
      "1.5\n",
      "9\n",
      "14\n",
      "20\n",
      "0.2\n"
     ]
    }
   ],
   "execution_count": 46
  },
  {
   "cell_type": "code",
   "id": "2859981e74c85209",
   "metadata": {
    "ExecuteTime": {
     "end_time": "2025-09-04T09:36:40.654538Z",
     "start_time": "2025-09-04T09:36:40.649862Z"
    }
   },
   "source": [
    "# This line is a comment.\n",
    "print(\"This line is not a comment, it is code.\")"
   ],
   "outputs": [
    {
     "name": "stdout",
     "output_type": "stream",
     "text": [
      "This line is not a comment, it is code.\n"
     ]
    }
   ],
   "execution_count": 47
  },
  {
   "cell_type": "markdown",
   "id": "556506bffb7bcba4",
   "metadata": {},
   "source": [
    "#### Exercises"
   ]
  },
  {
   "cell_type": "code",
   "id": "7cf70dd3b0ee166",
   "metadata": {
    "ExecuteTime": {
     "end_time": "2025-09-04T09:36:40.713234Z",
     "start_time": "2025-09-04T09:36:40.709367Z"
    }
   },
   "source": [
    "# Arithmetic\n",
    "print(1 + 1)\n",
    "print(1 - 1)\n",
    "print(1 * 1)\n",
    "print(1 / 1)\n",
    "print(1 ** 1)\n",
    "\n",
    "print(\"\\n\")\n",
    "\n",
    "# Order of Operations\n",
    "print(4 + 8 / 2 * 4)\n",
    "print((4 + 8) / (2 * 4))"
   ],
   "outputs": [
    {
     "name": "stdout",
     "output_type": "stream",
     "text": [
      "2\n",
      "0\n",
      "1\n",
      "1.0\n",
      "1\n",
      "\n",
      "\n",
      "20.0\n",
      "1.5\n"
     ]
    }
   ],
   "execution_count": 48
  },
  {
   "cell_type": "markdown",
   "id": "4f7f0dfa16b957fe",
   "metadata": {},
   "source": [
    "#### Part 2: Introducing Functions"
   ]
  },
  {
   "cell_type": "code",
   "id": "8e527c6297c30042",
   "metadata": {
    "ExecuteTime": {
     "end_time": "2025-09-04T09:36:40.772783Z",
     "start_time": "2025-09-04T09:36:40.767890Z"
    }
   },
   "source": [
    "def thank_you(name):\n",
    "    # This function prints a two-line personalized thank you message.\n",
    "    print(\"\\nYou are doing good work, %s!\" % name)\n",
    "    print(\"Thank you very much for your efforts on this project.\")\n",
    "\n",
    "\n",
    "thank_you('Adriana')\n",
    "thank_you('Billy')\n",
    "thank_you('Caroline')"
   ],
   "outputs": [
    {
     "name": "stdout",
     "output_type": "stream",
     "text": [
      "\n",
      "You are doing good work, Adriana!\n",
      "Thank you very much for your efforts on this project.\n",
      "\n",
      "You are doing good work, Billy!\n",
      "Thank you very much for your efforts on this project.\n",
      "\n",
      "You are doing good work, Caroline!\n",
      "Thank you very much for your efforts on this project.\n"
     ]
    }
   ],
   "execution_count": 49
  },
  {
   "cell_type": "code",
   "id": "9aeb442f4e156a29",
   "metadata": {
    "ExecuteTime": {
     "end_time": "2025-09-04T09:36:40.835644Z",
     "start_time": "2025-09-04T09:36:40.829223Z"
    }
   },
   "source": [
    "def get_number_word(number):\n",
    "    # Takes in a numerical value, and returns\n",
    "    # the word corresponding to that number.\n",
    "    if number == 0:\n",
    "        return 'zero'\n",
    "    elif number == 1:\n",
    "        return 'one'\n",
    "    elif number == 2:\n",
    "        return 'two'\n",
    "    elif number == 3:\n",
    "        return 'three'\n",
    "    return None\n",
    "\n",
    "\n",
    "# Let's try out our function.\n",
    "for current_number in range(0, 4):\n",
    "    number_word = get_number_word(current_number)\n",
    "    print(current_number, number_word)"
   ],
   "outputs": [
    {
     "name": "stdout",
     "output_type": "stream",
     "text": [
      "0 zero\n",
      "1 one\n",
      "2 two\n",
      "3 three\n"
     ]
    }
   ],
   "execution_count": 50
  },
  {
   "cell_type": "markdown",
   "id": "651fc6c501fe6029",
   "metadata": {},
   "source": [
    "#### Part 3: Lists and Tuples"
   ]
  },
  {
   "cell_type": "code",
   "id": "7f9ff6379e54396e",
   "metadata": {
    "ExecuteTime": {
     "end_time": "2025-09-04T09:36:40.899253Z",
     "start_time": "2025-09-04T09:36:40.893898Z"
    }
   },
   "source": [
    "students = ['bernice', 'aaron', 'cody']\n",
    "for student in students:\n",
    "    print(\"Hello, \" + student.title() + \"!\")"
   ],
   "outputs": [
    {
     "name": "stdout",
     "output_type": "stream",
     "text": [
      "Hello, Bernice!\n",
      "Hello, Aaron!\n",
      "Hello, Cody!\n"
     ]
    }
   ],
   "execution_count": 51
  },
  {
   "cell_type": "code",
   "id": "71c70dd31dabfa6f",
   "metadata": {
    "ExecuteTime": {
     "end_time": "2025-09-04T09:36:40.956278Z",
     "start_time": "2025-09-04T09:36:40.952262Z"
    }
   },
   "source": [
    "dogs = ['border collie', 'australian cattle dog', 'labrador retriever']"
   ],
   "outputs": [],
   "execution_count": 52
  },
  {
   "cell_type": "code",
   "id": "f0a7e375afc8dfdb",
   "metadata": {
    "ExecuteTime": {
     "end_time": "2025-09-04T09:36:41.005444Z",
     "start_time": "2025-09-04T09:36:41.003393Z"
    }
   },
   "source": [
    "dogs = ['border collie', 'australian cattle dog', 'labrador retriever']\n",
    "dog = dogs[0]\n",
    "print(dog.title())"
   ],
   "outputs": [
    {
     "name": "stdout",
     "output_type": "stream",
     "text": [
      "Border Collie\n"
     ]
    }
   ],
   "execution_count": 53
  },
  {
   "cell_type": "code",
   "id": "f2253643bb66a541",
   "metadata": {
    "ExecuteTime": {
     "end_time": "2025-09-04T09:36:41.065366Z",
     "start_time": "2025-09-04T09:36:41.060437Z"
    }
   },
   "source": [
    "dogs = ['border collie', 'australian cattle dog', 'labrador retriever']\n",
    "dog = dogs[-1]\n",
    "print(dog.title())"
   ],
   "outputs": [
    {
     "name": "stdout",
     "output_type": "stream",
     "text": [
      "Labrador Retriever\n"
     ]
    }
   ],
   "execution_count": 54
  },
  {
   "cell_type": "code",
   "id": "5a36e3a7982c4e85",
   "metadata": {
    "ExecuteTime": {
     "end_time": "2025-09-04T09:36:41.125303Z",
     "start_time": "2025-09-04T09:36:41.120595Z"
    }
   },
   "source": [
    "dogs = ['border collie', 'australian cattle dog', 'labrador retriever']\n",
    "for dog in dogs:\n",
    "    print(dog)"
   ],
   "outputs": [
    {
     "name": "stdout",
     "output_type": "stream",
     "text": [
      "border collie\n",
      "australian cattle dog\n",
      "labrador retriever\n"
     ]
    }
   ],
   "execution_count": 55
  },
  {
   "cell_type": "code",
   "id": "c901c23da3e9a972",
   "metadata": {
    "ExecuteTime": {
     "end_time": "2025-09-04T09:36:41.188889Z",
     "start_time": "2025-09-04T09:36:41.183653Z"
    }
   },
   "source": [
    "dogs = ['border collie', 'australian cattle dog', 'labrador retriever']\n",
    "print(\"Results for the dog show are as follows:\\n\")\n",
    "for index, dog in enumerate(dogs):\n",
    "    place = str(index)\n",
    "    print(place + \" - \" + dog.title())"
   ],
   "outputs": [
    {
     "name": "stdout",
     "output_type": "stream",
     "text": [
      "Results for the dog show are as follows:\n",
      "\n",
      "0 - Border Collie\n",
      "1 - Australian Cattle Dog\n",
      "2 - Labrador Retriever\n"
     ]
    }
   ],
   "execution_count": 56
  },
  {
   "cell_type": "markdown",
   "id": "e1b8bcfe1db034bc",
   "metadata": {},
   "source": [
    "### Завдання 2 "
   ]
  },
  {
   "cell_type": "markdown",
   "id": "82a14cac6e49ce",
   "metadata": {},
   "source": [
    "### <center> Тема «Основи Python. Списки і словники»  <center>"
   ]
  },
  {
   "cell_type": "markdown",
   "id": "dc68571c17eea404",
   "metadata": {},
   "source": [
    "Завдання 1"
   ]
  },
  {
   "cell_type": "code",
   "id": "894929e007003020",
   "metadata": {
    "ExecuteTime": {
     "end_time": "2025-09-04T09:36:41.244513Z",
     "start_time": "2025-09-04T09:36:41.241365Z"
    }
   },
   "source": [
    "def print_list(colors_list):\n",
    "    if not colors_list:\n",
    "        print(\"No more colors\")\n",
    "    else:\n",
    "        for ind, col in enumerate(colors_list):\n",
    "            plc = str(ind)\n",
    "            print(plc + \" - \" + col)"
   ],
   "outputs": [],
   "execution_count": 57
  },
  {
   "cell_type": "code",
   "id": "8d42c2740defc13f",
   "metadata": {
    "ExecuteTime": {
     "end_time": "2025-09-04T09:36:41.293871Z",
     "start_time": "2025-09-04T09:36:41.291238Z"
    }
   },
   "source": [
    "colors = ['blue', 'green']\n",
    "print_list(colors)"
   ],
   "outputs": [
    {
     "name": "stdout",
     "output_type": "stream",
     "text": [
      "0 - blue\n",
      "1 - green\n"
     ]
    }
   ],
   "execution_count": 58
  },
  {
   "cell_type": "code",
   "id": "5702829f6a747fff",
   "metadata": {
    "ExecuteTime": {
     "end_time": "2025-09-04T09:36:41.341604Z",
     "start_time": "2025-09-04T09:36:41.339210Z"
    }
   },
   "source": [
    "colors.index('blue')"
   ],
   "outputs": [
    {
     "data": {
      "text/plain": [
       "0"
      ]
     },
     "execution_count": 59,
     "metadata": {},
     "output_type": "execute_result"
    }
   ],
   "execution_count": 59
  },
  {
   "cell_type": "code",
   "id": "2d706851bca0b55f",
   "metadata": {
    "ExecuteTime": {
     "end_time": "2025-09-04T09:36:41.398379Z",
     "start_time": "2025-09-04T09:36:41.393801Z"
    }
   },
   "source": [
    "colors.append('red')\n",
    "colors.insert(0, 'white')\n",
    "print_list(colors)"
   ],
   "outputs": [
    {
     "name": "stdout",
     "output_type": "stream",
     "text": [
      "0 - white\n",
      "1 - blue\n",
      "2 - green\n",
      "3 - red\n"
     ]
    }
   ],
   "execution_count": 60
  },
  {
   "cell_type": "code",
   "id": "498808df9342bd18",
   "metadata": {
    "ExecuteTime": {
     "end_time": "2025-09-04T09:36:41.462284Z",
     "start_time": "2025-09-04T09:36:41.456479Z"
    }
   },
   "source": [
    "colors.pop(-1)\n",
    "colors.pop(1)\n",
    "print_list(colors)"
   ],
   "outputs": [
    {
     "name": "stdout",
     "output_type": "stream",
     "text": [
      "0 - white\n",
      "1 - green\n"
     ]
    }
   ],
   "execution_count": 61
  },
  {
   "cell_type": "code",
   "id": "20ae39ee63d0f57",
   "metadata": {
    "ExecuteTime": {
     "end_time": "2025-09-04T09:36:41.522095Z",
     "start_time": "2025-09-04T09:36:41.518819Z"
    }
   },
   "source": [
    "colors.remove('green')\n",
    "colors.pop(0)\n",
    "print_list(colors)"
   ],
   "outputs": [
    {
     "name": "stdout",
     "output_type": "stream",
     "text": [
      "No more colors\n"
     ]
    }
   ],
   "execution_count": 62
  },
  {
   "cell_type": "markdown",
   "id": "2405a145e8d69ef",
   "metadata": {},
   "source": [
    "Завдання 2"
   ]
  },
  {
   "cell_type": "markdown",
   "id": "497f577c24ddc0e7",
   "metadata": {},
   "source": "№ варіанта - 3"
  },
  {
   "cell_type": "markdown",
   "id": "20639dadd968dcf8",
   "metadata": {},
   "source": [
    "> Створіть словник для зберігання інформації про клієнта: прізвище, ім'я, дата народження, e-mail, стать, країна проживання, місто.\n",
    "> Виведіть кожен фрагмент інформації, що зберігається в словнику."
   ]
  },
  {
   "metadata": {
    "ExecuteTime": {
     "end_time": "2025-09-04T09:36:41.576989Z",
     "start_time": "2025-09-04T09:36:41.573086Z"
    }
   },
   "cell_type": "code",
   "source": [
    "def print_client(dct):\n",
    "    for head, client_value in dct.items():\n",
    "        print(f\"{head.title()} - {client_value}\")"
   ],
   "id": "a485d5e4b624264",
   "outputs": [],
   "execution_count": 63
  },
  {
   "metadata": {
    "ExecuteTime": {
     "end_time": "2025-09-04T09:36:41.624342Z",
     "start_time": "2025-09-04T09:36:41.622515Z"
    }
   },
   "cell_type": "code",
   "source": [
    "client = {\n",
    "    \"name\": \"First Name\",\n",
    "    \"surname\": \"Last Name\",\n",
    "    \"year\": \"1.1.2000\",\n",
    "    \"email\": \"test@gmail.com\",\n",
    "    \"sex\": \"Male\",\n",
    "    \"country\": \"United States\",\n",
    "    \"city\": \"New York\"\n",
    "}"
   ],
   "id": "b5d4b3971a61e859",
   "outputs": [],
   "execution_count": 64
  },
  {
   "metadata": {
    "ExecuteTime": {
     "end_time": "2025-09-04T09:36:41.681983Z",
     "start_time": "2025-09-04T09:36:41.676746Z"
    }
   },
   "cell_type": "code",
   "source": "print_client(client)",
   "id": "52187fd349588020",
   "outputs": [
    {
     "name": "stdout",
     "output_type": "stream",
     "text": [
      "Name - First Name\n",
      "Surname - Last Name\n",
      "Year - 1.1.2000\n",
      "Email - test@gmail.com\n",
      "Sex - Male\n",
      "Country - United States\n",
      "City - New York\n"
     ]
    }
   ],
   "execution_count": 65
  },
  {
   "metadata": {
    "ExecuteTime": {
     "end_time": "2025-09-04T09:36:41.733311Z",
     "start_time": "2025-09-04T09:36:41.730930Z"
    }
   },
   "cell_type": "code",
   "source": "N = 0",
   "id": "783530b9625bb861",
   "outputs": [],
   "execution_count": 66
  },
  {
   "metadata": {
    "ExecuteTime": {
     "end_time": "2025-09-04T09:36:41.787138Z",
     "start_time": "2025-09-04T09:36:41.783595Z"
    }
   },
   "cell_type": "code",
   "source": [
    "def get_clients():\n",
    "    while True:\n",
    "        num = input(\"Number of clients: \")\n",
    "        try:\n",
    "            test_client_list = int(num)\n",
    "            if test_client_list > N:\n",
    "                return test_client_list\n",
    "            else:\n",
    "                print(\"The number must be greater than zero\")\n",
    "        except ValueError:\n",
    "            print(\"Invalid input\")"
   ],
   "id": "bf5ea91d395953b2",
   "outputs": [],
   "execution_count": 67
  },
  {
   "metadata": {
    "ExecuteTime": {
     "end_time": "2025-09-04T09:36:48.747340Z",
     "start_time": "2025-09-04T09:36:41.837059Z"
    }
   },
   "cell_type": "code",
   "source": [
    "client_list = []\n",
    "num_clients = get_clients()\n",
    "print(f\"You entered: {num_clients}\")\n",
    "\n",
    "for i in range(1, num_clients + 1):\n",
    "    t_dict = {}\n",
    "    for key in client:\n",
    "        t_dict[key] = input(f\"Enter for client {i} {key.title()}: \")\n",
    "    client_list.append(t_dict)"
   ],
   "id": "3abd48f5b80e2353",
   "outputs": [
    {
     "name": "stdout",
     "output_type": "stream",
     "text": [
      "You entered: 1\n"
     ]
    }
   ],
   "execution_count": 68
  },
  {
   "metadata": {
    "ExecuteTime": {
     "end_time": "2025-09-04T09:36:48.764081Z",
     "start_time": "2025-09-04T09:36:48.760597Z"
    }
   },
   "cell_type": "code",
   "source": [
    "for index, dct in enumerate(client_list, start=1):\n",
    "    print(f\"{index} client:\", dct)"
   ],
   "id": "976d35763024524f",
   "outputs": [
    {
     "name": "stdout",
     "output_type": "stream",
     "text": [
      "1 client: {'name': 'T', 'surname': 'T', 'year': 'T', 'email': 'T', 'sex': 'T', 'country': 'T', 'city': 'T'}\n"
     ]
    }
   ],
   "execution_count": 69
  },
  {
   "metadata": {},
   "cell_type": "markdown",
   "source": "Завдання 3",
   "id": "e623a94c1244c011"
  },
  {
   "metadata": {},
   "cell_type": "markdown",
   "source": "№ варіанта - 3",
   "id": "534293cbae0e4102"
  },
  {
   "metadata": {},
   "cell_type": "markdown",
   "source": [
    "> Створіть Основний словник, який містить імена продавців iphone, і модель.\n",
    "> Створіть додатковий словник, який містить назви моделейі ціну.\n",
    "> Вивести імена тих продавців, які продають моделі старше 6 років зціною не більше $500, модель та ціну в порядку зменшення ціни.\n",
    "> Якщо в додатковому словнику є моделі, які не продаються (відсутнів першому словнику), виведіть їх назви списком."
   ],
   "id": "6af311e4dc150db7"
  },
  {
   "metadata": {
    "ExecuteTime": {
     "end_time": "2025-09-04T09:43:28.048448Z",
     "start_time": "2025-09-04T09:43:28.046972Z"
    }
   },
   "cell_type": "code",
   "source": "from datetime import datetime",
   "id": "72f699611fbcbf69",
   "outputs": [],
   "execution_count": 78
  },
  {
   "metadata": {
    "ExecuteTime": {
     "end_time": "2025-09-04T09:43:28.062082Z",
     "start_time": "2025-09-04T09:43:28.053785Z"
    }
   },
   "cell_type": "code",
   "source": [
    "seller_dict = {\n",
    "    \"Amazon\": [\"iPhone 12\", \"iPhone 14\"],\n",
    "    \"Apple\": [\"iPhone 16\", \"iPhone 15\"],\n",
    "    \"Walmart\": [\"iPhone 13\", \"iPhone 11\"]\n",
    "}\n",
    "price_dict = {\n",
    "    \"iPhone 1\": [2, 2000],\n",
    "    \"iPhone 11\": [200, 2017],\n",
    "    \"iPhone 12\": [440, 2018],\n",
    "    \"iPhone 13\": [600, 2019],\n",
    "    \"iPhone 14\": [710, 2020],\n",
    "    \"iPhone 15\": [800, 2024],\n",
    "    \"iPhone 16\": [900, 2025]\n",
    "}"
   ],
   "id": "6a3e674bbbb75622",
   "outputs": [],
   "execution_count": 79
  },
  {
   "metadata": {
    "ExecuteTime": {
     "end_time": "2025-09-04T09:44:31.202399Z",
     "start_time": "2025-09-04T09:43:36.923050Z"
    }
   },
   "cell_type": "code",
   "source": [
    "result = []\n",
    "models = []\n",
    "six_from_year = datetime.now().year - 6\n",
    "\n",
    "for seller, stock in seller_dict.items():\n",
    "    for model in stock:\n",
    "        models.append(model)\n",
    "        price, year = price_dict[model]\n",
    "        if price <= 500 and year <= six_from_year:\n",
    "            result.append((seller, model, price))\n",
    "\n",
    "sorted_result = sorted(result, key=lambda x: x[2], reverse=True)\n",
    "\n",
    "for seller, model, price in sorted_result:\n",
    "    print(f\"{seller}: {model} - ${price}\")\n",
    "\n",
    "old_models = []\n",
    "for model in price_dict.keys():\n",
    "    if model not in models:\n",
    "        old_models.append(model)\n",
    "\n",
    "print(old_models)"
   ],
   "id": "3688b7ac0b99a990",
   "outputs": [
    {
     "name": "stdout",
     "output_type": "stream",
     "text": [
      "Amazon: iPhone 12 - $440\n",
      "Walmart: iPhone 11 - $200\n",
      "['iPhone 1']\n"
     ]
    }
   ],
   "execution_count": 81
  }
 ],
 "metadata": {
  "kernelspec": {
   "display_name": "Python 3",
   "language": "python",
   "name": "python3"
  },
  "language_info": {
   "codemirror_mode": {
    "name": "ipython",
    "version": 2
   },
   "file_extension": ".py",
   "mimetype": "text/x-python",
   "name": "python",
   "nbconvert_exporter": "python",
   "pygments_lexer": "ipython2",
   "version": "2.7.6"
  }
 },
 "nbformat": 4,
 "nbformat_minor": 5
}
