{
 "cells": [
  {
   "cell_type": "markdown",
   "id": "4191c3ae1cfe11d7",
   "metadata": {},
   "source": [
    "### Завдання 1"
   ]
  },
  {
   "cell_type": "markdown",
   "id": "1fcab3a952075c46",
   "metadata": {},
   "source": [
    "### <center> Lab 1. Intro to Python for Data Science <center>"
   ]
  },
  {
   "cell_type": "markdown",
   "id": "7127a22f382693ee",
   "metadata": {},
   "source": [
    "#### Part 1: Variables, Strings, and Numbers"
   ]
  },
  {
   "cell_type": "code",
   "id": "e5d1930a8f3d67fc",
   "metadata": {
    "collapsed": true,
    "ExecuteTime": {
     "end_time": "2025-09-13T10:18:40.209680Z",
     "start_time": "2025-09-13T10:18:40.204960Z"
    }
   },
   "source": [
    "message = \"Hello Python world!\"\n",
    "print(message)\n",
    "\n",
    "message = \"Python is my favorite language!\"\n",
    "print(message)"
   ],
   "outputs": [
    {
     "name": "stdout",
     "output_type": "stream",
     "text": [
      "Hello Python world!\n",
      "Python is my favorite language!\n"
     ]
    }
   ],
   "execution_count": 1
  },
  {
   "cell_type": "markdown",
   "id": "ce3ec94599bc0d96",
   "metadata": {},
   "source": [
    "#### Exercises"
   ]
  },
  {
   "cell_type": "code",
   "id": "3fc16bdfc98991b6",
   "metadata": {
    "ExecuteTime": {
     "end_time": "2025-09-13T10:18:40.261435Z",
     "start_time": "2025-09-13T10:18:40.259803Z"
    }
   },
   "source": [
    "# Hello World - variable\n",
    "mine_message = \"Hello World!\"\n",
    "print(mine_message)\n",
    "\n",
    "# One Variable, Two Messages\n",
    "mine_message = \"World Hello!\"\n",
    "print(mine_message)"
   ],
   "outputs": [
    {
     "name": "stdout",
     "output_type": "stream",
     "text": [
      "Hello World!\n",
      "World Hello!\n"
     ]
    }
   ],
   "execution_count": 2
  },
  {
   "cell_type": "code",
   "id": "45aea07611f4a3c3",
   "metadata": {
    "ExecuteTime": {
     "end_time": "2025-09-13T10:18:40.328862Z",
     "start_time": "2025-09-13T10:18:40.327100Z"
    }
   },
   "source": [
    "my_string = \"This is a double-quoted string.\"\n",
    "my_string = 'This is a single-quoted string.'\n",
    "quote = \"Linus Torvalds once said, 'Any program is only as good as it is useful.'\""
   ],
   "outputs": [],
   "execution_count": 3
  },
  {
   "cell_type": "code",
   "id": "be6aad966e179e3",
   "metadata": {
    "ExecuteTime": {
     "end_time": "2025-09-13T10:18:40.379434Z",
     "start_time": "2025-09-13T10:18:40.377207Z"
    }
   },
   "source": [
    "first_name = 'eric'\n",
    "print(first_name)\n",
    "print(first_name.title())"
   ],
   "outputs": [
    {
     "name": "stdout",
     "output_type": "stream",
     "text": [
      "eric\n",
      "Eric\n"
     ]
    }
   ],
   "execution_count": 4
  },
  {
   "cell_type": "code",
   "id": "9810caebb4c3b433",
   "metadata": {
    "ExecuteTime": {
     "end_time": "2025-09-13T10:18:40.426955Z",
     "start_time": "2025-09-13T10:18:40.425177Z"
    }
   },
   "source": [
    "first_name = 'eric'\n",
    "print(first_name)\n",
    "print(first_name.title())\n",
    "print(first_name.upper())\n",
    "\n",
    "first_name = 'Eric'\n",
    "print(first_name.lower())"
   ],
   "outputs": [
    {
     "name": "stdout",
     "output_type": "stream",
     "text": [
      "eric\n",
      "Eric\n",
      "ERIC\n",
      "eric\n"
     ]
    }
   ],
   "execution_count": 5
  },
  {
   "cell_type": "code",
   "id": "25f8e07600cbf0b5",
   "metadata": {
    "ExecuteTime": {
     "end_time": "2025-09-13T10:18:40.476182Z",
     "start_time": "2025-09-13T10:18:40.473887Z"
    }
   },
   "source": [
    "first_name = 'ada'\n",
    "last_name = 'lovelace'\n",
    "full_name = first_name + ' ' + last_name\n",
    "print(full_name.title())"
   ],
   "outputs": [
    {
     "name": "stdout",
     "output_type": "stream",
     "text": [
      "Ada Lovelace\n"
     ]
    }
   ],
   "execution_count": 6
  },
  {
   "cell_type": "code",
   "id": "e047c5b591b64e95",
   "metadata": {
    "ExecuteTime": {
     "end_time": "2025-09-13T10:18:40.533407Z",
     "start_time": "2025-09-13T10:18:40.531599Z"
    }
   },
   "source": [
    "first_name = 'ada'\n",
    "last_name = 'lovelace'\n",
    "full_name = first_name + ' ' + last_name\n",
    "message = full_name.title() + ' ' + \"was considered the world's first computer programmer.\"\n",
    "print(message)"
   ],
   "outputs": [
    {
     "name": "stdout",
     "output_type": "stream",
     "text": [
      "Ada Lovelace was considered the world's first computer programmer.\n"
     ]
    }
   ],
   "execution_count": 7
  },
  {
   "cell_type": "code",
   "id": "f862d6ef0fccbf50",
   "metadata": {
    "ExecuteTime": {
     "end_time": "2025-09-13T10:18:40.581164Z",
     "start_time": "2025-09-13T10:18:40.579053Z"
    }
   },
   "source": [
    "print(\"Hello everyone!\")\n",
    "print(\"\\tHello everyone!\")\n",
    "print(\"Hello \\teveryone!\")\n",
    "\n",
    "print(\"Hello everyone!\")\n",
    "print(\"\\nHello everyone!\")\n",
    "print(\"Hello \\neveryone!\")\n",
    "print(\"\\n\\n\\nHello everyone!\")"
   ],
   "outputs": [
    {
     "name": "stdout",
     "output_type": "stream",
     "text": [
      "Hello everyone!\n",
      "\tHello everyone!\n",
      "Hello \teveryone!\n",
      "Hello everyone!\n",
      "\n",
      "Hello everyone!\n",
      "Hello \n",
      "everyone!\n",
      "\n",
      "\n",
      "\n",
      "Hello everyone!\n"
     ]
    }
   ],
   "execution_count": 8
  },
  {
   "cell_type": "code",
   "id": "3548ea06b00924b6",
   "metadata": {
    "ExecuteTime": {
     "end_time": "2025-09-13T10:18:40.629492Z",
     "start_time": "2025-09-13T10:18:40.627292Z"
    }
   },
   "source": [
    "name = ' eric '\n",
    "print(name.lstrip())\n",
    "print(name.rstrip())\n",
    "print(name.strip())"
   ],
   "outputs": [
    {
     "name": "stdout",
     "output_type": "stream",
     "text": [
      "eric \n",
      " eric\n",
      "eric\n"
     ]
    }
   ],
   "execution_count": 9
  },
  {
   "cell_type": "markdown",
   "id": "e3b6f463ebdc6395",
   "metadata": {},
   "source": [
    "#### Exercises"
   ]
  },
  {
   "cell_type": "code",
   "id": "698d5bb558212ed0",
   "metadata": {
    "ExecuteTime": {
     "end_time": "2025-09-13T10:18:40.678487Z",
     "start_time": "2025-09-13T10:18:40.675942Z"
    }
   },
   "source": [
    "# Someone Said\n",
    "st_quote = \"“If you wait by the river long enough, the bodies of your enemies will float by.” ― Sun Tzu \"\n",
    "print(st_quote)\n",
    "\n",
    "# First Name Cases\n",
    "f_name = \"vladyslav\"\n",
    "print(f_name.lower())\n",
    "print(f_name.title())\n",
    "print(f_name.upper())\n",
    "\n",
    "# Full Name\n",
    "first_name = \"Vladyslav\"\n",
    "last_name = \"Bliniaev\"\n",
    "full_name = first_name + ' ' + last_name\n",
    "print(full_name)\n",
    "\n",
    "# About This Person\n",
    "first_name = \"Sun\"\n",
    "last_name = \"Tzu\"\n",
    "full_name = first_name + ' ' + last_name\n",
    "message = full_name.title() + ' ' + \"was a Chinese philosopher\"\n",
    "print(message)\n",
    "\n",
    "# Name Strip\n",
    "name = \" Vladyslav \"\n",
    "print(name.lstrip())\n",
    "print(name.rstrip())\n",
    "print(name.strip())"
   ],
   "outputs": [
    {
     "name": "stdout",
     "output_type": "stream",
     "text": [
      "“If you wait by the river long enough, the bodies of your enemies will float by.” ― Sun Tzu \n",
      "vladyslav\n",
      "Vladyslav\n",
      "VLADYSLAV\n",
      "Vladyslav Bliniaev\n",
      "Sun Tzu was a Chinese philosopher\n",
      "Vladyslav \n",
      " Vladyslav\n",
      "Vladyslav\n"
     ]
    }
   ],
   "execution_count": 10
  },
  {
   "cell_type": "code",
   "id": "c1e09a3428626289",
   "metadata": {
    "ExecuteTime": {
     "end_time": "2025-09-13T10:18:40.737612Z",
     "start_time": "2025-09-13T10:18:40.733671Z"
    }
   },
   "source": [
    "print(3 + 2)\n",
    "print(3 - 2)\n",
    "print(3 * 2)\n",
    "print(3 / 2)\n",
    "print(3 ** 2)\n",
    "\n",
    "standard_order = 2 + 3 * 4\n",
    "print(standard_order)\n",
    "my_order = (2 + 3) * 4\n",
    "print(my_order)\n",
    "\n",
    "print(0.1 + 0.1)"
   ],
   "outputs": [
    {
     "name": "stdout",
     "output_type": "stream",
     "text": [
      "5\n",
      "1\n",
      "6\n",
      "1.5\n",
      "9\n",
      "14\n",
      "20\n",
      "0.2\n"
     ]
    }
   ],
   "execution_count": 11
  },
  {
   "cell_type": "code",
   "id": "2859981e74c85209",
   "metadata": {
    "ExecuteTime": {
     "end_time": "2025-09-13T10:18:40.784686Z",
     "start_time": "2025-09-13T10:18:40.783024Z"
    }
   },
   "source": [
    "# This line is a comment.\n",
    "print(\"This line is not a comment, it is code.\")"
   ],
   "outputs": [
    {
     "name": "stdout",
     "output_type": "stream",
     "text": [
      "This line is not a comment, it is code.\n"
     ]
    }
   ],
   "execution_count": 12
  },
  {
   "cell_type": "markdown",
   "id": "556506bffb7bcba4",
   "metadata": {},
   "source": [
    "#### Exercises"
   ]
  },
  {
   "cell_type": "code",
   "id": "7cf70dd3b0ee166",
   "metadata": {
    "ExecuteTime": {
     "end_time": "2025-09-13T10:18:40.836735Z",
     "start_time": "2025-09-13T10:18:40.834013Z"
    }
   },
   "source": [
    "# Arithmetic\n",
    "print(1 + 1)\n",
    "print(1 - 1)\n",
    "print(1 * 1)\n",
    "print(1 / 1)\n",
    "print(1 ** 1)\n",
    "\n",
    "print(\"\\n\")\n",
    "\n",
    "# Order of Operations\n",
    "print(4 + 8 / 2 * 4)\n",
    "print((4 + 8) / (2 * 4))"
   ],
   "outputs": [
    {
     "name": "stdout",
     "output_type": "stream",
     "text": [
      "2\n",
      "0\n",
      "1\n",
      "1.0\n",
      "1\n",
      "\n",
      "\n",
      "20.0\n",
      "1.5\n"
     ]
    }
   ],
   "execution_count": 13
  },
  {
   "cell_type": "markdown",
   "id": "4f7f0dfa16b957fe",
   "metadata": {},
   "source": [
    "#### Part 2: Introducing Functions"
   ]
  },
  {
   "cell_type": "code",
   "id": "8e527c6297c30042",
   "metadata": {
    "ExecuteTime": {
     "end_time": "2025-09-13T10:18:40.904157Z",
     "start_time": "2025-09-13T10:18:40.896800Z"
    }
   },
   "source": [
    "def thank_you(name):\n",
    "    # This function prints a two-line personalized thank you message.\n",
    "    print(\"\\nYou are doing good work, %s!\" % name)\n",
    "    print(\"Thank you very much for your efforts on this project.\")\n",
    "\n",
    "\n",
    "thank_you('Adriana')\n",
    "thank_you('Billy')\n",
    "thank_you('Caroline')"
   ],
   "outputs": [
    {
     "name": "stdout",
     "output_type": "stream",
     "text": [
      "\n",
      "You are doing good work, Adriana!\n",
      "Thank you very much for your efforts on this project.\n",
      "\n",
      "You are doing good work, Billy!\n",
      "Thank you very much for your efforts on this project.\n",
      "\n",
      "You are doing good work, Caroline!\n",
      "Thank you very much for your efforts on this project.\n"
     ]
    }
   ],
   "execution_count": 14
  },
  {
   "cell_type": "code",
   "id": "9aeb442f4e156a29",
   "metadata": {
    "ExecuteTime": {
     "end_time": "2025-09-13T10:18:40.973691Z",
     "start_time": "2025-09-13T10:18:40.966336Z"
    }
   },
   "source": [
    "def get_number_word(number):\n",
    "    # Takes in a numerical value, and returns\n",
    "    # the word corresponding to that number.\n",
    "    if number == 0:\n",
    "        return 'zero'\n",
    "    elif number == 1:\n",
    "        return 'one'\n",
    "    elif number == 2:\n",
    "        return 'two'\n",
    "    elif number == 3:\n",
    "        return 'three'\n",
    "    return None\n",
    "\n",
    "\n",
    "# Let's try out our function.\n",
    "for current_number in range(0, 4):\n",
    "    number_word = get_number_word(current_number)\n",
    "    print(current_number, number_word)"
   ],
   "outputs": [
    {
     "name": "stdout",
     "output_type": "stream",
     "text": [
      "0 zero\n",
      "1 one\n",
      "2 two\n",
      "3 three\n"
     ]
    }
   ],
   "execution_count": 15
  },
  {
   "cell_type": "markdown",
   "id": "651fc6c501fe6029",
   "metadata": {},
   "source": [
    "#### Part 3: Lists and Tuples"
   ]
  },
  {
   "cell_type": "code",
   "id": "7f9ff6379e54396e",
   "metadata": {
    "ExecuteTime": {
     "end_time": "2025-09-13T10:18:41.048562Z",
     "start_time": "2025-09-13T10:18:41.046350Z"
    }
   },
   "source": [
    "students = ['bernice', 'aaron', 'cody']\n",
    "for student in students:\n",
    "    print(\"Hello, \" + student.title() + \"!\")"
   ],
   "outputs": [
    {
     "name": "stdout",
     "output_type": "stream",
     "text": [
      "Hello, Bernice!\n",
      "Hello, Aaron!\n",
      "Hello, Cody!\n"
     ]
    }
   ],
   "execution_count": 16
  },
  {
   "cell_type": "code",
   "id": "71c70dd31dabfa6f",
   "metadata": {
    "ExecuteTime": {
     "end_time": "2025-09-13T10:18:41.094740Z",
     "start_time": "2025-09-13T10:18:41.092907Z"
    }
   },
   "source": [
    "dogs = ['border collie', 'australian cattle dog', 'labrador retriever']"
   ],
   "outputs": [],
   "execution_count": 17
  },
  {
   "cell_type": "code",
   "id": "f0a7e375afc8dfdb",
   "metadata": {
    "ExecuteTime": {
     "end_time": "2025-09-13T10:18:41.142122Z",
     "start_time": "2025-09-13T10:18:41.140009Z"
    }
   },
   "source": [
    "dogs = ['border collie', 'australian cattle dog', 'labrador retriever']\n",
    "dog = dogs[0]\n",
    "print(dog.title())"
   ],
   "outputs": [
    {
     "name": "stdout",
     "output_type": "stream",
     "text": [
      "Border Collie\n"
     ]
    }
   ],
   "execution_count": 18
  },
  {
   "cell_type": "code",
   "id": "f2253643bb66a541",
   "metadata": {
    "ExecuteTime": {
     "end_time": "2025-09-13T10:18:41.191074Z",
     "start_time": "2025-09-13T10:18:41.189203Z"
    }
   },
   "source": [
    "dogs = ['border collie', 'australian cattle dog', 'labrador retriever']\n",
    "dog = dogs[-1]\n",
    "print(dog.title())"
   ],
   "outputs": [
    {
     "name": "stdout",
     "output_type": "stream",
     "text": [
      "Labrador Retriever\n"
     ]
    }
   ],
   "execution_count": 19
  },
  {
   "cell_type": "code",
   "id": "5a36e3a7982c4e85",
   "metadata": {
    "ExecuteTime": {
     "end_time": "2025-09-13T10:18:41.239920Z",
     "start_time": "2025-09-13T10:18:41.237742Z"
    }
   },
   "source": [
    "dogs = ['border collie', 'australian cattle dog', 'labrador retriever']\n",
    "for dog in dogs:\n",
    "    print(dog)"
   ],
   "outputs": [
    {
     "name": "stdout",
     "output_type": "stream",
     "text": [
      "border collie\n",
      "australian cattle dog\n",
      "labrador retriever\n"
     ]
    }
   ],
   "execution_count": 20
  },
  {
   "cell_type": "code",
   "id": "c901c23da3e9a972",
   "metadata": {
    "ExecuteTime": {
     "end_time": "2025-09-13T10:18:41.305060Z",
     "start_time": "2025-09-13T10:18:41.301701Z"
    }
   },
   "source": [
    "dogs = ['border collie', 'australian cattle dog', 'labrador retriever']\n",
    "print(\"Results for the dog show are as follows:\\n\")\n",
    "for index, dog in enumerate(dogs):\n",
    "    place = str(index)\n",
    "    print(place + \" - \" + dog.title())"
   ],
   "outputs": [
    {
     "name": "stdout",
     "output_type": "stream",
     "text": [
      "Results for the dog show are as follows:\n",
      "\n",
      "0 - Border Collie\n",
      "1 - Australian Cattle Dog\n",
      "2 - Labrador Retriever\n"
     ]
    }
   ],
   "execution_count": 21
  },
  {
   "cell_type": "markdown",
   "id": "e1b8bcfe1db034bc",
   "metadata": {},
   "source": [
    "### Завдання 2 "
   ]
  },
  {
   "cell_type": "markdown",
   "id": "82a14cac6e49ce",
   "metadata": {},
   "source": [
    "### <center> Тема «Основи Python. Списки і словники»  <center>"
   ]
  },
  {
   "cell_type": "markdown",
   "id": "dc68571c17eea404",
   "metadata": {},
   "source": [
    "Завдання 1"
   ]
  },
  {
   "cell_type": "code",
   "id": "894929e007003020",
   "metadata": {
    "ExecuteTime": {
     "end_time": "2025-09-13T10:18:41.350099Z",
     "start_time": "2025-09-13T10:18:41.348357Z"
    }
   },
   "source": [
    "def print_list(colors_list):\n",
    "    if not colors_list:\n",
    "        print(\"No more colors\")\n",
    "    else:\n",
    "        for ind, col in enumerate(colors_list):\n",
    "            plc = str(ind)\n",
    "            print(plc + \" - \" + col)"
   ],
   "outputs": [],
   "execution_count": 22
  },
  {
   "cell_type": "code",
   "id": "8d42c2740defc13f",
   "metadata": {
    "ExecuteTime": {
     "end_time": "2025-09-13T10:18:41.404613Z",
     "start_time": "2025-09-13T10:18:41.400060Z"
    }
   },
   "source": [
    "colors = ['blue', 'green']\n",
    "print_list(colors)"
   ],
   "outputs": [
    {
     "name": "stdout",
     "output_type": "stream",
     "text": [
      "0 - blue\n",
      "1 - green\n"
     ]
    }
   ],
   "execution_count": 23
  },
  {
   "cell_type": "code",
   "id": "5702829f6a747fff",
   "metadata": {
    "ExecuteTime": {
     "end_time": "2025-09-13T10:18:41.453133Z",
     "start_time": "2025-09-13T10:18:41.449281Z"
    }
   },
   "source": [
    "colors.index('blue')"
   ],
   "outputs": [
    {
     "data": {
      "text/plain": [
       "0"
      ]
     },
     "execution_count": 24,
     "metadata": {},
     "output_type": "execute_result"
    }
   ],
   "execution_count": 24
  },
  {
   "cell_type": "code",
   "id": "2d706851bca0b55f",
   "metadata": {
    "ExecuteTime": {
     "end_time": "2025-09-13T10:18:41.499922Z",
     "start_time": "2025-09-13T10:18:41.497854Z"
    }
   },
   "source": [
    "colors.append('red')\n",
    "colors.insert(0, 'white')\n",
    "print_list(colors)"
   ],
   "outputs": [
    {
     "name": "stdout",
     "output_type": "stream",
     "text": [
      "0 - white\n",
      "1 - blue\n",
      "2 - green\n",
      "3 - red\n"
     ]
    }
   ],
   "execution_count": 25
  },
  {
   "cell_type": "code",
   "id": "498808df9342bd18",
   "metadata": {
    "ExecuteTime": {
     "end_time": "2025-09-13T10:18:41.552859Z",
     "start_time": "2025-09-13T10:18:41.548560Z"
    }
   },
   "source": [
    "colors.pop(-1)\n",
    "colors.pop(1)\n",
    "print_list(colors)"
   ],
   "outputs": [
    {
     "name": "stdout",
     "output_type": "stream",
     "text": [
      "0 - white\n",
      "1 - green\n"
     ]
    }
   ],
   "execution_count": 26
  },
  {
   "cell_type": "code",
   "id": "20ae39ee63d0f57",
   "metadata": {
    "ExecuteTime": {
     "end_time": "2025-09-13T10:18:41.599160Z",
     "start_time": "2025-09-13T10:18:41.597122Z"
    }
   },
   "source": [
    "colors.remove('green')\n",
    "colors.pop(0)\n",
    "print_list(colors)"
   ],
   "outputs": [
    {
     "name": "stdout",
     "output_type": "stream",
     "text": [
      "No more colors\n"
     ]
    }
   ],
   "execution_count": 27
  },
  {
   "cell_type": "markdown",
   "id": "2405a145e8d69ef",
   "metadata": {},
   "source": [
    "Завдання 2"
   ]
  },
  {
   "cell_type": "markdown",
   "id": "497f577c24ddc0e7",
   "metadata": {},
   "source": "№ варіанта - 3"
  },
  {
   "cell_type": "markdown",
   "id": "20639dadd968dcf8",
   "metadata": {},
   "source": [
    "> Створіть словник для зберігання інформації про клієнта: прізвище, ім'я, дата народження, e-mail, стать, країна проживання, місто.\n",
    "> Виведіть кожен фрагмент інформації, що зберігається в словнику."
   ]
  },
  {
   "metadata": {
    "ExecuteTime": {
     "end_time": "2025-09-13T10:18:41.654524Z",
     "start_time": "2025-09-13T10:18:41.650281Z"
    }
   },
   "cell_type": "code",
   "source": [
    "def print_client(dct):\n",
    "    for head, client_value in dct.items():\n",
    "        print(f\"{head.title()} - {client_value}\")"
   ],
   "id": "a485d5e4b624264",
   "outputs": [],
   "execution_count": 28
  },
  {
   "metadata": {
    "ExecuteTime": {
     "end_time": "2025-09-13T10:18:41.705235Z",
     "start_time": "2025-09-13T10:18:41.702180Z"
    }
   },
   "cell_type": "code",
   "source": [
    "client = {\n",
    "    \"name\": \"First Name\",\n",
    "    \"surname\": \"Last Name\",\n",
    "    \"year\": \"1.1.2000\",\n",
    "    \"email\": \"test@gmail.com\",\n",
    "    \"sex\": \"Male\",\n",
    "    \"country\": \"United States\",\n",
    "    \"city\": \"New York\"\n",
    "}"
   ],
   "id": "b5d4b3971a61e859",
   "outputs": [],
   "execution_count": 29
  },
  {
   "metadata": {
    "ExecuteTime": {
     "end_time": "2025-09-13T10:18:41.760438Z",
     "start_time": "2025-09-13T10:18:41.755788Z"
    }
   },
   "cell_type": "code",
   "source": "print_client(client)",
   "id": "52187fd349588020",
   "outputs": [
    {
     "name": "stdout",
     "output_type": "stream",
     "text": [
      "Name - First Name\n",
      "Surname - Last Name\n",
      "Year - 1.1.2000\n",
      "Email - test@gmail.com\n",
      "Sex - Male\n",
      "Country - United States\n",
      "City - New York\n"
     ]
    }
   ],
   "execution_count": 30
  },
  {
   "metadata": {
    "ExecuteTime": {
     "end_time": "2025-09-13T10:18:41.805045Z",
     "start_time": "2025-09-13T10:18:41.803791Z"
    }
   },
   "cell_type": "code",
   "source": "N = 0",
   "id": "783530b9625bb861",
   "outputs": [],
   "execution_count": 31
  },
  {
   "metadata": {
    "ExecuteTime": {
     "end_time": "2025-09-13T10:18:41.852532Z",
     "start_time": "2025-09-13T10:18:41.850599Z"
    }
   },
   "cell_type": "code",
   "source": [
    "def get_clients():\n",
    "    while True:\n",
    "        num = input(\"Number of clients: \")\n",
    "        try:\n",
    "            test_client_list = int(num)\n",
    "            if test_client_list > N:\n",
    "                return test_client_list\n",
    "            else:\n",
    "                print(\"The number must be greater than zero\")\n",
    "        except ValueError:\n",
    "            print(\"Invalid input\")"
   ],
   "id": "bf5ea91d395953b2",
   "outputs": [],
   "execution_count": 32
  },
  {
   "metadata": {
    "ExecuteTime": {
     "end_time": "2025-09-13T10:18:47.369383Z",
     "start_time": "2025-09-13T10:18:41.896853Z"
    }
   },
   "cell_type": "code",
   "source": [
    "client_list = []\n",
    "num_clients = get_clients()\n",
    "print(f\"You entered: {num_clients}\")\n",
    "\n",
    "for i in range(1, num_clients + 1):\n",
    "    t_dict = {}\n",
    "    for key in client:\n",
    "        t_dict[key] = input(f\"Enter for client {i} {key.title()}: \")\n",
    "    client_list.append(t_dict)"
   ],
   "id": "3abd48f5b80e2353",
   "outputs": [
    {
     "name": "stdout",
     "output_type": "stream",
     "text": [
      "You entered: 1\n"
     ]
    }
   ],
   "execution_count": 33
  },
  {
   "metadata": {
    "ExecuteTime": {
     "end_time": "2025-09-13T10:18:47.434883Z",
     "start_time": "2025-09-13T10:18:47.433249Z"
    }
   },
   "cell_type": "code",
   "source": [
    "for index, dct in enumerate(client_list, start=1):\n",
    "    print(f\"{index} client:\", dct)"
   ],
   "id": "976d35763024524f",
   "outputs": [
    {
     "name": "stdout",
     "output_type": "stream",
     "text": [
      "1 client: {'name': '1', 'surname': '1', 'year': '1', 'email': '1', 'sex': '1', 'country': '1', 'city': '1'}\n"
     ]
    }
   ],
   "execution_count": 34
  },
  {
   "metadata": {},
   "cell_type": "markdown",
   "source": "Завдання 3",
   "id": "e623a94c1244c011"
  },
  {
   "metadata": {},
   "cell_type": "markdown",
   "source": "№ варіанта - 3",
   "id": "534293cbae0e4102"
  },
  {
   "metadata": {},
   "cell_type": "markdown",
   "source": [
    "> Створіть Основний словник, який містить імена продавців iphone, і модель.\n",
    "> Створіть додатковий словник, який містить назви моделейі ціну.\n",
    "> Вивести імена тих продавців, які продають моделі старше 6 років зціною не більше $500, модель та ціну в порядку зменшення ціни.\n",
    "> Якщо в додатковому словнику є моделі, які не продаються (відсутнів першому словнику), виведіть їх назви списком."
   ],
   "id": "6af311e4dc150db7"
  },
  {
   "metadata": {
    "ExecuteTime": {
     "end_time": "2025-09-13T10:18:47.486874Z",
     "start_time": "2025-09-13T10:18:47.485258Z"
    }
   },
   "cell_type": "code",
   "source": "from datetime import datetime",
   "id": "72f699611fbcbf69",
   "outputs": [],
   "execution_count": 35
  },
  {
   "metadata": {
    "ExecuteTime": {
     "end_time": "2025-09-13T10:18:47.541895Z",
     "start_time": "2025-09-13T10:18:47.537076Z"
    }
   },
   "cell_type": "code",
   "source": [
    "seller_dict = {\n",
    "    \"Amazon\": [\"iPhone 12\", \"iPhone 14\"],\n",
    "    \"Apple\": [\"iPhone 16\", \"iPhone 15\"],\n",
    "    \"Walmart\": [\"iPhone 13\", \"iPhone 11\"]\n",
    "}\n",
    "price_dict = {\n",
    "    \"iPhone 1\": [2, 2000],\n",
    "    \"iPhone 11\": [200, 2017],\n",
    "    \"iPhone 12\": [440, 2018],\n",
    "    \"iPhone 13\": [600, 2019],\n",
    "    \"iPhone 14\": [710, 2020],\n",
    "    \"iPhone 15\": [800, 2024],\n",
    "    \"iPhone 16\": [900, 2025]\n",
    "}"
   ],
   "id": "6a3e674bbbb75622",
   "outputs": [],
   "execution_count": 36
  },
  {
   "metadata": {
    "ExecuteTime": {
     "end_time": "2025-09-13T10:18:47.599692Z",
     "start_time": "2025-09-13T10:18:47.595220Z"
    }
   },
   "cell_type": "code",
   "source": [
    "result = []\n",
    "models = []\n",
    "six_from_year = datetime.now().year - 6\n",
    "\n",
    "for seller, stock in seller_dict.items():\n",
    "    for model in stock:\n",
    "        models.append(model)\n",
    "        price, year = price_dict[model]\n",
    "        if price <= 500 and year <= six_from_year:\n",
    "            result.append((seller, model, price))\n",
    "\n",
    "sorted_result = sorted(result, key=lambda x: x[2], reverse=True)\n",
    "\n",
    "for seller, model, price in sorted_result:\n",
    "    print(f\"{seller}: {model} - ${price}\")\n",
    "\n",
    "old_models = []\n",
    "for model in price_dict.keys():\n",
    "    if model not in models:\n",
    "        old_models.append(model)\n",
    "\n",
    "print(old_models)"
   ],
   "id": "3688b7ac0b99a990",
   "outputs": [
    {
     "name": "stdout",
     "output_type": "stream",
     "text": [
      "Amazon: iPhone 12 - $440\n",
      "Walmart: iPhone 11 - $200\n",
      "['iPhone 1']\n"
     ]
    }
   ],
   "execution_count": 37
  }
 ],
 "metadata": {
  "kernelspec": {
   "display_name": "Python 3",
   "language": "python",
   "name": "python3"
  },
  "language_info": {
   "codemirror_mode": {
    "name": "ipython",
    "version": 2
   },
   "file_extension": ".py",
   "mimetype": "text/x-python",
   "name": "python",
   "nbconvert_exporter": "python",
   "pygments_lexer": "ipython2",
   "version": "2.7.6"
  }
 },
 "nbformat": 4,
 "nbformat_minor": 5
}
