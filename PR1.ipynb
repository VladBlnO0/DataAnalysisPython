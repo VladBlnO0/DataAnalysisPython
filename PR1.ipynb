{
  "cells": [
    {
      "cell_type": "markdown",
      "metadata": {
        "id": "view-in-github",
        "colab_type": "text"
      },
      "source": [
        "<a href=\"https://colab.research.google.com/github/VladBlnO0/DataAnalysisPython/blob/master/PR1.ipynb\" target=\"_parent\"><img src=\"https://colab.research.google.com/assets/colab-badge.svg\" alt=\"Open In Colab\"/></a>"
      ]
    },
    {
      "cell_type": "code",
      "id": "initial_id",
      "metadata": {
        "ExecuteTime": {
          "end_time": "2025-09-01T07:16:42.988703Z",
          "start_time": "2025-09-01T07:16:42.986036Z"
        },
        "id": "initial_id",
        "outputId": "87cbdfb8-3261-4312-fadc-c7bdabfe1524",
        "colab": {
          "base_uri": "https://localhost:8080/"
        }
      },
      "source": [
        "print('PyCharm')"
      ],
      "outputs": [
        {
          "output_type": "stream",
          "name": "stdout",
          "text": [
            "PyCharm\n"
          ]
        }
      ],
      "execution_count": 1
    },
    {
      "metadata": {
        "id": "5f88083d4b23b255"
      },
      "cell_type": "code",
      "outputs": [],
      "execution_count": 1,
      "source": [],
      "id": "5f88083d4b23b255"
    }
  ],
  "metadata": {
    "kernelspec": {
      "display_name": "Python 3",
      "language": "python",
      "name": "python3"
    },
    "language_info": {
      "codemirror_mode": {
        "name": "ipython",
        "version": 2
      },
      "file_extension": ".py",
      "mimetype": "text/x-python",
      "name": "python",
      "nbconvert_exporter": "python",
      "pygments_lexer": "ipython2",
      "version": "2.7.6"
    },
    "colab": {
      "provenance": [],
      "include_colab_link": true
    }
  },
  "nbformat": 4,
  "nbformat_minor": 5
}