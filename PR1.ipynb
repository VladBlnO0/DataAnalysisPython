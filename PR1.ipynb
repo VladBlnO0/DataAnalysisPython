{
 "cells": [
  {
   "metadata": {},
   "cell_type": "markdown",
   "source": "### <center> Lab 1. Intro to Python for Data Science <center>",
   "id": "1fcab3a952075c46"
  },
  {
   "metadata": {},
   "cell_type": "markdown",
   "source": "#### Part 1: Variables, Strings, and Numbers",
   "id": "7127a22f382693ee"
  },
  {
   "metadata": {
    "collapsed": true,
    "ExecuteTime": {
     "end_time": "2025-09-01T09:04:00.580816Z",
     "start_time": "2025-09-01T09:04:00.578341Z"
    }
   },
   "cell_type": "code",
   "source": [
    "message = \"Hello Python world!\"\n",
    "print(message)\n",
    "\n",
    "message = \"Python is my favorite language!\"\n",
    "print(message)"
   ],
   "id": "e5d1930a8f3d67fc",
   "outputs": [
    {
     "name": "stdout",
     "output_type": "stream",
     "text": [
      "Hello Python world!\n",
      "Python is my favorite language!\n"
     ]
    }
   ],
   "execution_count": 46
  },
  {
   "metadata": {},
   "cell_type": "markdown",
   "source": "#### Exercises",
   "id": "ce3ec94599bc0d96"
  },
  {
   "metadata": {
    "ExecuteTime": {
     "end_time": "2025-09-01T09:04:00.597325Z",
     "start_time": "2025-09-01T09:04:00.594193Z"
    }
   },
   "cell_type": "code",
   "source": [
    "# Hello World - variable\n",
    "mine_message = \"Hello World!\"\n",
    "print(mine_message)\n",
    "\n",
    "# One Variable, Two Messages\n",
    "mine_message = \"World Hello!\"\n",
    "print(mine_message)"
   ],
   "id": "3fc16bdfc98991b6",
   "outputs": [
    {
     "name": "stdout",
     "output_type": "stream",
     "text": [
      "Hello World!\n",
      "World Hello!\n"
     ]
    }
   ],
   "execution_count": 47
  },
  {
   "metadata": {
    "ExecuteTime": {
     "end_time": "2025-09-01T09:04:00.655252Z",
     "start_time": "2025-09-01T09:04:00.649613Z"
    }
   },
   "cell_type": "code",
   "source": [
    "my_string = \"This is a double-quoted string.\"\n",
    "my_string = 'This is a single-quoted string.'\n",
    "quote = \"Linus Torvalds once said, 'Any program is only as good as it is useful.'\""
   ],
   "id": "45aea07611f4a3c3",
   "outputs": [],
   "execution_count": 48
  },
  {
   "metadata": {
    "ExecuteTime": {
     "end_time": "2025-09-01T09:04:00.707811Z",
     "start_time": "2025-09-01T09:04:00.704605Z"
    }
   },
   "cell_type": "code",
   "source": [
    "first_name = 'eric'\n",
    "print(first_name)\n",
    "print(first_name.title())"
   ],
   "id": "be6aad966e179e3",
   "outputs": [
    {
     "name": "stdout",
     "output_type": "stream",
     "text": [
      "eric\n",
      "Eric\n"
     ]
    }
   ],
   "execution_count": 49
  },
  {
   "metadata": {
    "ExecuteTime": {
     "end_time": "2025-09-01T09:04:00.769621Z",
     "start_time": "2025-09-01T09:04:00.764376Z"
    }
   },
   "cell_type": "code",
   "source": [
    "first_name = 'eric'\n",
    "print(first_name)\n",
    "print(first_name.title())\n",
    "print(first_name.upper())\n",
    "\n",
    "first_name = 'Eric'\n",
    "print(first_name.lower())"
   ],
   "id": "9810caebb4c3b433",
   "outputs": [
    {
     "name": "stdout",
     "output_type": "stream",
     "text": [
      "eric\n",
      "Eric\n",
      "ERIC\n",
      "eric\n"
     ]
    }
   ],
   "execution_count": 50
  },
  {
   "metadata": {
    "ExecuteTime": {
     "end_time": "2025-09-01T09:04:00.829176Z",
     "start_time": "2025-09-01T09:04:00.823742Z"
    }
   },
   "cell_type": "code",
   "source": [
    "first_name = 'ada'\n",
    "last_name = 'lovelace'\n",
    "full_name = first_name + ' ' + last_name\n",
    "print(full_name.title())"
   ],
   "id": "25f8e07600cbf0b5",
   "outputs": [
    {
     "name": "stdout",
     "output_type": "stream",
     "text": [
      "Ada Lovelace\n"
     ]
    }
   ],
   "execution_count": 51
  },
  {
   "metadata": {
    "ExecuteTime": {
     "end_time": "2025-09-01T09:04:00.888990Z",
     "start_time": "2025-09-01T09:04:00.883861Z"
    }
   },
   "cell_type": "code",
   "source": [
    "first_name = 'ada'\n",
    "last_name = 'lovelace'\n",
    "full_name = first_name + ' ' + last_name\n",
    "message = full_name.title() + ' ' + \"was considered the world's first computer programmer.\"\n",
    "print(message)"
   ],
   "id": "e047c5b591b64e95",
   "outputs": [
    {
     "name": "stdout",
     "output_type": "stream",
     "text": [
      "Ada Lovelace was considered the world's first computer programmer.\n"
     ]
    }
   ],
   "execution_count": 52
  },
  {
   "metadata": {
    "ExecuteTime": {
     "end_time": "2025-09-01T09:04:00.936931Z",
     "start_time": "2025-09-01T09:04:00.934609Z"
    }
   },
   "cell_type": "code",
   "source": [
    "print(\"Hello everyone!\")\n",
    "print(\"\\tHello everyone!\")\n",
    "print(\"Hello \\teveryone!\")\n",
    "\n",
    "print(\"Hello everyone!\")\n",
    "print(\"\\nHello everyone!\")\n",
    "print(\"Hello \\neveryone!\")\n",
    "print(\"\\n\\n\\nHello everyone!\")"
   ],
   "id": "f862d6ef0fccbf50",
   "outputs": [
    {
     "name": "stdout",
     "output_type": "stream",
     "text": [
      "Hello everyone!\n",
      "\tHello everyone!\n",
      "Hello \teveryone!\n",
      "Hello everyone!\n",
      "\n",
      "Hello everyone!\n",
      "Hello \n",
      "everyone!\n",
      "\n",
      "\n",
      "\n",
      "Hello everyone!\n"
     ]
    }
   ],
   "execution_count": 53
  },
  {
   "metadata": {
    "ExecuteTime": {
     "end_time": "2025-09-01T09:04:00.982170Z",
     "start_time": "2025-09-01T09:04:00.980589Z"
    }
   },
   "cell_type": "code",
   "source": [
    "name = ' eric '\n",
    "print(name.lstrip())\n",
    "print(name.rstrip())\n",
    "print(name.strip())"
   ],
   "id": "3548ea06b00924b6",
   "outputs": [
    {
     "name": "stdout",
     "output_type": "stream",
     "text": [
      "eric \n",
      " eric\n",
      "eric\n"
     ]
    }
   ],
   "execution_count": 54
  },
  {
   "metadata": {},
   "cell_type": "markdown",
   "source": "#### Exercises",
   "id": "e3b6f463ebdc6395"
  },
  {
   "metadata": {
    "ExecuteTime": {
     "end_time": "2025-09-01T09:04:01.028726Z",
     "start_time": "2025-09-01T09:04:01.026310Z"
    }
   },
   "cell_type": "code",
   "source": [
    "# Someone Said\n",
    "st_quote = \"“If you wait by the river long enough, the bodies of your enemies will float by.” ― Sun Tzu \"\n",
    "print(st_quote)\n",
    "\n",
    "# First Name Cases\n",
    "f_name = \"vladyslav\"\n",
    "print(f_name.lower())\n",
    "print(f_name.title())\n",
    "print(f_name.upper())\n",
    "\n",
    "# Full Name\n",
    "first_name = \"Vladyslav\"\n",
    "last_name = \"Bliniaev\"\n",
    "full_name = first_name + ' ' + last_name\n",
    "print(full_name)\n",
    "\n",
    "# About This Person\n",
    "first_name = \"Sun\"\n",
    "last_name = \"Tzu\"\n",
    "full_name = first_name + ' ' + last_name\n",
    "message = full_name.title() + ' ' + \"was a Chinese philosopher\"\n",
    "print(message)\n",
    "\n",
    "# Name Strip\n",
    "name = \" Vladyslav \"\n",
    "print(name.lstrip())\n",
    "print(name.rstrip())\n",
    "print(name.strip())"
   ],
   "id": "698d5bb558212ed0",
   "outputs": [
    {
     "name": "stdout",
     "output_type": "stream",
     "text": [
      "“If you wait by the river long enough, the bodies of your enemies will float by.” ― Sun Tzu \n",
      "vladyslav\n",
      "Vladyslav\n",
      "VLADYSLAV\n",
      "Vladyslav Bliniaev\n",
      "Sun Tzu was a Chinese philosopher\n",
      "Vladyslav \n",
      " Vladyslav\n",
      "Vladyslav\n"
     ]
    }
   ],
   "execution_count": 55
  },
  {
   "metadata": {
    "ExecuteTime": {
     "end_time": "2025-09-01T09:04:01.074436Z",
     "start_time": "2025-09-01T09:04:01.072678Z"
    }
   },
   "cell_type": "code",
   "source": [
    "print(3 + 2)\n",
    "print(3 - 2)\n",
    "print(3 * 2)\n",
    "print(3 / 2)\n",
    "print(3 ** 2)\n",
    "\n",
    "standard_order = 2 + 3 * 4\n",
    "print(standard_order)\n",
    "my_order = (2 + 3) * 4\n",
    "print(my_order)\n",
    "\n",
    "print(0.1 + 0.1)"
   ],
   "id": "c1e09a3428626289",
   "outputs": [
    {
     "name": "stdout",
     "output_type": "stream",
     "text": [
      "5\n",
      "1\n",
      "6\n",
      "1.5\n",
      "9\n",
      "14\n",
      "20\n",
      "0.2\n"
     ]
    }
   ],
   "execution_count": 56
  },
  {
   "metadata": {
    "ExecuteTime": {
     "end_time": "2025-09-01T09:04:01.130294Z",
     "start_time": "2025-09-01T09:04:01.126755Z"
    }
   },
   "cell_type": "code",
   "source": [
    "# This line is a comment.\n",
    "print(\"This line is not a comment, it is code.\")"
   ],
   "id": "2859981e74c85209",
   "outputs": [
    {
     "name": "stdout",
     "output_type": "stream",
     "text": [
      "This line is not a comment, it is code.\n"
     ]
    }
   ],
   "execution_count": 57
  },
  {
   "metadata": {},
   "cell_type": "markdown",
   "source": "#### Exercises",
   "id": "556506bffb7bcba4"
  },
  {
   "metadata": {
    "ExecuteTime": {
     "end_time": "2025-09-01T09:04:01.190585Z",
     "start_time": "2025-09-01T09:04:01.185472Z"
    }
   },
   "cell_type": "code",
   "source": [
    "# Arithmetic\n",
    "print(1 + 1)\n",
    "print(1 - 1)\n",
    "print(1 * 1)\n",
    "print(1 / 1)\n",
    "print(1 ** 1)\n",
    "\n",
    "print(\"\\n\")\n",
    "\n",
    "# Order of Operations\n",
    "print(4 + 8 / 2 * 4)\n",
    "print((4 + 8) / (2 * 4))"
   ],
   "id": "7cf70dd3b0ee166",
   "outputs": [
    {
     "name": "stdout",
     "output_type": "stream",
     "text": [
      "2\n",
      "0\n",
      "1\n",
      "1.0\n",
      "1\n",
      "\n",
      "\n",
      "20.0\n",
      "1.5\n"
     ]
    }
   ],
   "execution_count": 58
  },
  {
   "metadata": {},
   "cell_type": "markdown",
   "source": "#### Part 2: Introducing Functions",
   "id": "4f7f0dfa16b957fe"
  },
  {
   "metadata": {
    "ExecuteTime": {
     "end_time": "2025-09-01T09:04:01.247484Z",
     "start_time": "2025-09-01T09:04:01.242900Z"
    }
   },
   "cell_type": "code",
   "source": [
    "def thank_you(name):\n",
    "    # This function prints a two-line personalized thank you message.\n",
    "    print(\"\\nYou are doing good work, %s!\" % name)\n",
    "    print(\"Thank you very much for your efforts on this project.\")\n",
    "\n",
    "\n",
    "thank_you('Adriana')\n",
    "thank_you('Billy')\n",
    "thank_you('Caroline')"
   ],
   "id": "8e527c6297c30042",
   "outputs": [
    {
     "name": "stdout",
     "output_type": "stream",
     "text": [
      "\n",
      "You are doing good work, Adriana!\n",
      "Thank you very much for your efforts on this project.\n",
      "\n",
      "You are doing good work, Billy!\n",
      "Thank you very much for your efforts on this project.\n",
      "\n",
      "You are doing good work, Caroline!\n",
      "Thank you very much for your efforts on this project.\n"
     ]
    }
   ],
   "execution_count": 59
  },
  {
   "metadata": {
    "ExecuteTime": {
     "end_time": "2025-09-01T09:04:01.314036Z",
     "start_time": "2025-09-01T09:04:01.304286Z"
    }
   },
   "cell_type": "code",
   "source": [
    "def get_number_word(number):\n",
    "    # Takes in a numerical value, and returns\n",
    "    # the word corresponding to that number.\n",
    "    if number == 0:\n",
    "        return 'zero'\n",
    "    elif number == 1:\n",
    "        return 'one'\n",
    "    elif number == 2:\n",
    "        return 'two'\n",
    "    elif number == 3:\n",
    "        return 'three'\n",
    "\n",
    "\n",
    "# Let's try out our function.\n",
    "for current_number in range(0, 4):\n",
    "    number_word = get_number_word(current_number)\n",
    "    print(current_number, number_word)"
   ],
   "id": "9aeb442f4e156a29",
   "outputs": [
    {
     "name": "stdout",
     "output_type": "stream",
     "text": [
      "0 zero\n",
      "1 one\n",
      "2 two\n",
      "3 three\n"
     ]
    }
   ],
   "execution_count": 60
  },
  {
   "metadata": {},
   "cell_type": "markdown",
   "source": "#### Part 3: Lists and Tuples",
   "id": "651fc6c501fe6029"
  },
  {
   "metadata": {
    "ExecuteTime": {
     "end_time": "2025-09-01T09:04:01.373021Z",
     "start_time": "2025-09-01T09:04:01.367722Z"
    }
   },
   "cell_type": "code",
   "source": [
    "students = ['bernice', 'aaron', 'cody']\n",
    "for student in students:\n",
    "    print(\"Hello, \" + student.title() + \"!\")"
   ],
   "id": "7f9ff6379e54396e",
   "outputs": [
    {
     "name": "stdout",
     "output_type": "stream",
     "text": [
      "Hello, Bernice!\n",
      "Hello, Aaron!\n",
      "Hello, Cody!\n"
     ]
    }
   ],
   "execution_count": 61
  },
  {
   "metadata": {
    "ExecuteTime": {
     "end_time": "2025-09-01T09:04:01.422536Z",
     "start_time": "2025-09-01T09:04:01.420053Z"
    }
   },
   "cell_type": "code",
   "source": "dogs = ['border collie', 'australian cattle dog', 'labrador retriever']",
   "id": "71c70dd31dabfa6f",
   "outputs": [],
   "execution_count": 62
  },
  {
   "metadata": {
    "ExecuteTime": {
     "end_time": "2025-09-01T09:04:01.476373Z",
     "start_time": "2025-09-01T09:04:01.469927Z"
    }
   },
   "cell_type": "code",
   "source": [
    "dogs = ['border collie', 'australian cattle dog', 'labrador retriever']\n",
    "dog = dogs[0]\n",
    "print(dog.title())"
   ],
   "id": "f0a7e375afc8dfdb",
   "outputs": [
    {
     "name": "stdout",
     "output_type": "stream",
     "text": [
      "Border Collie\n"
     ]
    }
   ],
   "execution_count": 63
  },
  {
   "metadata": {
    "ExecuteTime": {
     "end_time": "2025-09-01T09:04:01.532288Z",
     "start_time": "2025-09-01T09:04:01.527079Z"
    }
   },
   "cell_type": "code",
   "source": [
    "dogs = ['border collie', 'australian cattle dog', 'labrador retriever']\n",
    "dog = dogs[-1]\n",
    "print(dog.title())"
   ],
   "id": "f2253643bb66a541",
   "outputs": [
    {
     "name": "stdout",
     "output_type": "stream",
     "text": [
      "Labrador Retriever\n"
     ]
    }
   ],
   "execution_count": 64
  },
  {
   "metadata": {
    "ExecuteTime": {
     "end_time": "2025-09-01T09:04:01.576815Z",
     "start_time": "2025-09-01T09:04:01.575138Z"
    }
   },
   "cell_type": "code",
   "source": [
    "dogs = ['border collie', 'australian cattle dog', 'labrador retriever']\n",
    "for dog in dogs:\n",
    "    print(dog)"
   ],
   "id": "5a36e3a7982c4e85",
   "outputs": [
    {
     "name": "stdout",
     "output_type": "stream",
     "text": [
      "border collie\n",
      "australian cattle dog\n",
      "labrador retriever\n"
     ]
    }
   ],
   "execution_count": 65
  },
  {
   "metadata": {
    "ExecuteTime": {
     "end_time": "2025-09-01T09:05:27.455264Z",
     "start_time": "2025-09-01T09:05:27.450989Z"
    }
   },
   "cell_type": "code",
   "source": [
    "dogs = ['border collie', 'australian cattle dog', 'labrador retriever']\n",
    "print(\"Results for the dog show are as follows:\\n\")\n",
    "for index, dog in enumerate(dogs):\n",
    "    place = str(index)\n",
    "    print(place + \" - \" + dog.title())"
   ],
   "id": "c901c23da3e9a972",
   "outputs": [
    {
     "name": "stdout",
     "output_type": "stream",
     "text": [
      "Results for the dog show are as follows:\n",
      "\n",
      "0 - Border Collie\n",
      "1 - Australian Cattle Dog\n",
      "2 - Labrador Retriever\n"
     ]
    }
   ],
   "execution_count": 70
  }
 ],
 "metadata": {
  "kernelspec": {
   "display_name": "Python 3",
   "language": "python",
   "name": "python3"
  },
  "language_info": {
   "codemirror_mode": {
    "name": "ipython",
    "version": 2
   },
   "file_extension": ".py",
   "mimetype": "text/x-python",
   "name": "python",
   "nbconvert_exporter": "python",
   "pygments_lexer": "ipython2",
   "version": "2.7.6"
  }
 },
 "nbformat": 4,
 "nbformat_minor": 5
}
