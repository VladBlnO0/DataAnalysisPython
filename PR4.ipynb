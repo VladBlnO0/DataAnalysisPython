{
 "cells": [
  {
   "metadata": {},
   "cell_type": "markdown",
   "source": [
    "1. № вар - 3\n",
    "2. Діапазон (від) - 717\n",
    "3. Діапазон (до, включаючи) - 485\n",
    "4. N1 - 5\n",
    "5. N2 - 52\n",
    "6. M1 - 10\n",
    "7. M2 - 46"
   ],
   "id": "422f0b8e2b36699"
  },
  {
   "metadata": {},
   "cell_type": "markdown",
   "source": "# Завдання 1",
   "id": "9fb674ecb30479d8"
  },
  {
   "metadata": {},
   "cell_type": "markdown",
   "source": "1. Створіть та виведіть Series (ds1) з 15 елементів на основі списку: [“Bob”, “Emma”, “Joe”, “Lili”...], використовуючи Pandas-модуль.",
   "id": "16ef38aed4872a5d"
  },
  {
   "metadata": {
    "ExecuteTime": {
     "end_time": "2025-10-21T10:03:09.059960Z",
     "start_time": "2025-10-21T10:03:09.057223Z"
    }
   },
   "cell_type": "code",
   "source": [
    "import pandas as pd\n",
    "import numpy as np"
   ],
   "id": "ea3cec88f3efdb04",
   "outputs": [],
   "execution_count": 30
  },
  {
   "metadata": {
    "ExecuteTime": {
     "end_time": "2025-10-21T10:03:09.079609Z",
     "start_time": "2025-10-21T10:03:09.076833Z"
    }
   },
   "cell_type": "code",
   "source": [
    "\n",
    "ds1 = [\"Bob\", \"Emma\", \"Joe\", \"Lili\", \"Bibi\",\n",
    "       \"Bob1\", \"Emma1\", \"Joe1\", \"Lili1\", \"Bibi1\",\n",
    "       \"Bob2\", \"Emma2\", \"Joe2\", \"Lili2\", \"Bibi2\" ]\n",
    "\n",
    "ser = pd.Series(ds1)\n",
    "ser"
   ],
   "id": "cd434f6f7fd01fc7",
   "outputs": [
    {
     "data": {
      "text/plain": [
       "0       Bob\n",
       "1      Emma\n",
       "2       Joe\n",
       "3      Lili\n",
       "4      Bibi\n",
       "5      Bob1\n",
       "6     Emma1\n",
       "7      Joe1\n",
       "8     Lili1\n",
       "9     Bibi1\n",
       "10     Bob2\n",
       "11    Emma2\n",
       "12     Joe2\n",
       "13    Lili2\n",
       "14    Bibi2\n",
       "dtype: object"
      ]
     },
     "execution_count": 31,
     "metadata": {},
     "output_type": "execute_result"
    }
   ],
   "execution_count": 31
  },
  {
   "metadata": {},
   "cell_type": "markdown",
   "source": "2. Перевірте та виведіть його тип.",
   "id": "eb5f563767be6cd2"
  },
  {
   "metadata": {
    "ExecuteTime": {
     "end_time": "2025-10-21T10:03:09.136419Z",
     "start_time": "2025-10-21T10:03:09.132787Z"
    }
   },
   "cell_type": "code",
   "source": "print(ser.dtype)",
   "id": "5b014b330ccf4293",
   "outputs": [
    {
     "name": "stdout",
     "output_type": "stream",
     "text": [
      "object\n"
     ]
    }
   ],
   "execution_count": 32
  },
  {
   "metadata": {},
   "cell_type": "markdown",
   "source": "3. Вивести окремо значення Series та набір індексів.",
   "id": "3d1d49f7ef0da5ae"
  },
  {
   "metadata": {
    "ExecuteTime": {
     "end_time": "2025-10-21T10:03:09.200567Z",
     "start_time": "2025-10-21T10:03:09.194471Z"
    }
   },
   "cell_type": "code",
   "source": "ser.index",
   "id": "919e2c9affaf55f4",
   "outputs": [
    {
     "data": {
      "text/plain": [
       "RangeIndex(start=0, stop=15, step=1)"
      ]
     },
     "execution_count": 33,
     "metadata": {},
     "output_type": "execute_result"
    }
   ],
   "execution_count": 33
  },
  {
   "metadata": {
    "ExecuteTime": {
     "end_time": "2025-10-21T10:03:09.258126Z",
     "start_time": "2025-10-21T10:03:09.253254Z"
    }
   },
   "cell_type": "code",
   "source": "ser.values",
   "id": "983ad3be38d95425",
   "outputs": [
    {
     "data": {
      "text/plain": [
       "array(['Bob', 'Emma', 'Joe', 'Lili', 'Bibi', 'Bob1', 'Emma1', 'Joe1',\n",
       "       'Lili1', 'Bibi1', 'Bob2', 'Emma2', 'Joe2', 'Lili2', 'Bibi2'],\n",
       "      dtype=object)"
      ]
     },
     "execution_count": 34,
     "metadata": {},
     "output_type": "execute_result"
    }
   ],
   "execution_count": 34
  },
  {
   "metadata": {},
   "cell_type": "markdown",
   "source": "4. Вивести 2 перші рядки ds1",
   "id": "570d788ee1d238e4"
  },
  {
   "metadata": {
    "ExecuteTime": {
     "end_time": "2025-10-21T10:03:09.313860Z",
     "start_time": "2025-10-21T10:03:09.311055Z"
    }
   },
   "cell_type": "code",
   "source": "print(ser[:2])",
   "id": "1b3a59348ae03e94",
   "outputs": [
    {
     "name": "stdout",
     "output_type": "stream",
     "text": [
      "0     Bob\n",
      "1    Emma\n",
      "dtype: object\n"
     ]
    }
   ],
   "execution_count": 35
  },
  {
   "metadata": {},
   "cell_type": "markdown",
   "source": "5. Вивести непарні рядки ds1 у діапазоні з 3 по 9 рядок.",
   "id": "2ca89a4f0ba3ba66"
  },
  {
   "metadata": {
    "ExecuteTime": {
     "end_time": "2025-10-21T10:03:09.375677Z",
     "start_time": "2025-10-21T10:03:09.370472Z"
    }
   },
   "cell_type": "code",
   "source": "print(ser[3:10:2])",
   "id": "9fa945ee8c2f64c0",
   "outputs": [
    {
     "name": "stdout",
     "output_type": "stream",
     "text": [
      "3     Lili\n",
      "5     Bob1\n",
      "7     Joe1\n",
      "9    Bibi1\n",
      "dtype: object\n"
     ]
    }
   ],
   "execution_count": 36
  },
  {
   "metadata": {},
   "cell_type": "markdown",
   "source": [
    "6. Перетворити словник (створити попередньо згідно з рис.) custom_info\n",
    "(зберігає інформацію про тривалість дзвінків клієнта в роумінгу) у Series:"
   ],
   "id": "f300427ab81abbfc"
  },
  {
   "metadata": {
    "ExecuteTime": {
     "end_time": "2025-10-21T10:03:09.443328Z",
     "start_time": "2025-10-21T10:03:09.433693Z"
    }
   },
   "cell_type": "code",
   "source": [
    "months = ['Jan', 'Feb', 'Mar', 'Apr', 'May']\n",
    "duration = [125, 234, 13, 356, 87]\n",
    "custom_info = pd.Series(duration, index=months)\n",
    "custom_info"
   ],
   "id": "83e1f1550a091629",
   "outputs": [
    {
     "data": {
      "text/plain": [
       "Jan    125\n",
       "Feb    234\n",
       "Mar     13\n",
       "Apr    356\n",
       "May     87\n",
       "dtype: int64"
      ]
     },
     "execution_count": 37,
     "metadata": {},
     "output_type": "execute_result"
    }
   ],
   "execution_count": 37
  },
  {
   "metadata": {},
   "cell_type": "markdown",
   "source": [
    "7. Використовуючи позначки індексу, виведіть (одним оператором) всі\n",
    "тривалості розмов у весняні місяці."
   ],
   "id": "b0cdb224df602f71"
  },
  {
   "metadata": {
    "ExecuteTime": {
     "end_time": "2025-10-21T10:03:09.509146Z",
     "start_time": "2025-10-21T10:03:09.497411Z"
    }
   },
   "cell_type": "code",
   "source": "custom_info.loc[['Mar', 'Apr', 'May']]",
   "id": "c7801a9c80d07f72",
   "outputs": [
    {
     "data": {
      "text/plain": [
       "Mar     13\n",
       "Apr    356\n",
       "May     87\n",
       "dtype: int64"
      ]
     },
     "execution_count": 38,
     "metadata": {},
     "output_type": "execute_result"
    }
   ],
   "execution_count": 38
  },
  {
   "metadata": {},
   "cell_type": "markdown",
   "source": [
    "8. Припустимо, що ви отримали наступний список із назвами місяців\n",
    "m_names=['Jan', 'Feb', 'Mar', 'Apr', 'May', 'Jun', 'Jul']."
   ],
   "id": "f7d27a6af7bdec4e"
  },
  {
   "metadata": {
    "ExecuteTime": {
     "end_time": "2025-10-21T10:03:09.565942Z",
     "start_time": "2025-10-21T10:03:09.560384Z"
    }
   },
   "cell_type": "code",
   "source": "m_names=['Jan', 'Feb', 'Mar', 'Apr', 'May', 'Jun', 'Jul']",
   "id": "85cfdfbf9a3e8134",
   "outputs": [],
   "execution_count": 39
  },
  {
   "metadata": {},
   "cell_type": "markdown",
   "source": [
    "Створіть pd.Series custom_info_new, базуючись на наборі даних custom_info та\n",
    "списку m_names (для позначок індексів)."
   ],
   "id": "2595a960d4b0c15d"
  },
  {
   "metadata": {
    "ExecuteTime": {
     "end_time": "2025-10-21T10:03:14.161621Z",
     "start_time": "2025-10-21T10:03:14.154204Z"
    }
   },
   "cell_type": "code",
   "source": [
    "custom_info_new = custom_info.reindex(m_names)\n",
    "custom_info_new"
   ],
   "id": "484f07d151755393",
   "outputs": [
    {
     "data": {
      "text/plain": [
       "Jan    125.0\n",
       "Feb    234.0\n",
       "Mar     13.0\n",
       "Apr    356.0\n",
       "May     87.0\n",
       "Jun      NaN\n",
       "Jul      NaN\n",
       "dtype: float64"
      ]
     },
     "execution_count": 41,
     "metadata": {},
     "output_type": "execute_result"
    }
   ],
   "execution_count": 41
  },
  {
   "metadata": {},
   "cell_type": "markdown",
   "source": "9. Виявіть пропущені дані (missing values) у custom_info_new.",
   "id": "68653593e3a335e5"
  },
  {
   "metadata": {},
   "cell_type": "markdown",
   "source": "10.Ведіть дані з березня до травня, використовуючи зрізи.",
   "id": "336dd72518a715b0"
  },
  {
   "metadata": {},
   "cell_type": "markdown",
   "source": "11.Введіть рядки (з custom_info_new), де тривалість дзвінка <100.",
   "id": "9b7f741c83a5454a"
  },
  {
   "metadata": {},
   "cell_type": "markdown",
   "source": "12.Помножити дані із тривалістю дзвінка <200 на 5.",
   "id": "816000c9af167634"
  },
  {
   "metadata": {},
   "cell_type": "markdown",
   "source": "# Завдання 2",
   "id": "496478d26574b9f6"
  },
  {
   "metadata": {},
   "cell_type": "markdown",
   "source": [
    "Використовуючи відповідні методи об’єктів Series та DataFrame\n",
    "бібліотеки Pandas реалізувати завдання:\n",
    "\n",
    "Файл “pokemon.csv” зберігає дані про 7 поколінь всіх 802 покемонів.\n",
    "Детальна інформація про даний Dataset доступна за посиланням\n",
    "https://www.kaggle.com/rounakbanik/pokemon/home"
   ],
   "id": "d5b793b2bdf5cca9"
  },
  {
   "metadata": {},
   "cell_type": "markdown",
   "source": [
    "1. Використовуючи функцію pd.read_csv прочитати з файлу відповідну\n",
    "частину стовбців name, generation, type1, type2, hp, speed, sp_attack,\n",
    "sp_defense (діапазон строк задається по варіанту студента, див. Додаток\n",
    "A) у DataFrame pokemon. Стовбець abilities перетворити у 2 стовбця\n",
    "abilities1, abilities2, розподілити значення відповідно."
   ],
   "id": "70da9aaad4a76651"
  },
  {
   "metadata": {},
   "cell_type": "markdown",
   "source": [
    "2. Вивести індекси та мітки стовбців з утвореного у п.1. DataFrame\n",
    "pokemon."
   ],
   "id": "461af7fa81116c46"
  },
  {
   "metadata": {},
   "cell_type": "markdown",
   "source": [
    "3. Вивести значення строк з N1 по N2 відповідно варіанту завдання (див.\n",
    "Додаток A)."
   ],
   "id": "3586f749881ad78"
  },
  {
   "metadata": {},
   "cell_type": "markdown",
   "source": "4. Вивести значення стовбців з по generation по speed.",
   "id": "4edfc8c8e09e8ca4"
  },
  {
   "metadata": {},
   "cell_type": "markdown",
   "source": [
    "5. Вивести значення стовбця name у алфавітному порядку для парних\n",
    "варіантів студентів та у зворотному порядку для непарних варіантів\n",
    "студентів."
   ],
   "id": "afbd6de00e36869c"
  },
  {
   "metadata": {},
   "cell_type": "markdown",
   "source": "6. Вивести інформацію про покемонів, у яких значення hp більше ніж М1.",
   "id": "c5494f0154227ff6"
  },
  {
   "metadata": {},
   "cell_type": "markdown",
   "source": [
    "7. Вивести інформацію про покемонів, у яких значення speed більше ніж\n",
    "М2, а значення type1 дорівнює «grass» для парних варіантів студентів\n",
    "або «bug» для непарних варіантів студентів, а значення type2 дорівнює\n",
    "«poison» для непарних варіантів студентів або «steel» для парних\n",
    "варіантів студентів."
   ],
   "id": "85e6ff60d1c96c98"
  },
  {
   "metadata": {},
   "cell_type": "markdown",
   "source": [
    "8. Використовуючи індексатор loc вибрати та вивести значення стовбців\n",
    "name, generation, в відповідних строках яких значення стовбця sp_attack\n",
    "більше 30 (для парних варіантів студентів) або менше 30 (для не парних\n",
    "варіантів студентів ), а значення стовбця sp_defense більше 50 (для не\n",
    "парних варіантів студентів) або більше 80 (для парних варіантів\n",
    "студентів )"
   ],
   "id": "9a21f91aa6a4dc77"
  }
 ],
 "metadata": {
  "kernelspec": {
   "name": "python3",
   "language": "python",
   "display_name": "Python 3 (ipykernel)"
  }
 },
 "nbformat": 4,
 "nbformat_minor": 5
}
