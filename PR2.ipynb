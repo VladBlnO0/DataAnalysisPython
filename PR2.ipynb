{
 "cells": [
  {
   "metadata": {},
   "cell_type": "markdown",
   "source": [
    "<center> Практична робота №2 </center>\n",
    "<center> з дисципліни «Аналіз даних з використанням Python» </center>\n",
    "<center> на тему «Основи NumPy: робота з об'єктом ndarray, індексація NumPy масивів» </center>\n",
    "<center> Варіант №3 </center>\n",
    "\n",
    "<div style=\"margin-left: 80%;\"> Виконав: </div>\n",
    "<div style=\"margin-left: 80%;\"> ст. гр. АС-227 </div>\n",
    "<div style=\"margin-left: 80%;\"> Бліняєв В.О. </div>\n",
    "<div style=\"margin-left: 80%;\"> Перевірив: </div>\n",
    "<div style=\"margin-left: 80%;\"> ст. в. Штефан Н.З. </div>\n"
   ],
   "id": "8de401ee7d86c2c2"
  },
  {
   "cell_type": "markdown",
   "id": "4191c3ae1cfe11d7",
   "metadata": {},
   "source": [
    "### Завдання 1"
   ]
  },
  {
   "cell_type": "markdown",
   "id": "7127a22f382693ee",
   "metadata": {},
   "source": [
    "#### Part 1: Variables, Strings, and Numbers"
   ]
  },
  {
   "metadata": {
    "ExecuteTime": {
     "end_time": "2025-09-21T17:18:09.199011Z",
     "start_time": "2025-09-21T17:18:09.196993Z"
    }
   },
   "cell_type": "code",
   "source": "import numpy",
   "id": "af9824e30062c2d8",
   "outputs": [],
   "execution_count": 2
  },
  {
   "metadata": {
    "ExecuteTime": {
     "end_time": "2025-09-21T17:23:09.384226Z",
     "start_time": "2025-09-21T17:23:09.382866Z"
    }
   },
   "cell_type": "code",
   "source": [
    "a=3\n",
    "b=6\n",
    "c=1\n",
    "n=1\n",
    "m=15"
   ],
   "id": "8f2702b5dd4b66c2",
   "outputs": [],
   "execution_count": 55
  },
  {
   "metadata": {},
   "cell_type": "markdown",
   "source": "1.Створити вектор нульових значень (довжиною a)",
   "id": "e6ef860283bbbdf7"
  },
  {
   "metadata": {
    "ExecuteTime": {
     "end_time": "2025-09-21T17:23:09.396044Z",
     "start_time": "2025-09-21T17:23:09.388335Z"
    }
   },
   "cell_type": "code",
   "source": [
    "v1=numpy.zeros(a)\n",
    "v1"
   ],
   "id": "bcd07e33d25f2e6f",
   "outputs": [
    {
     "data": {
      "text/plain": [
       "array([0., 0., 0.])"
      ]
     },
     "execution_count": 56,
     "metadata": {},
     "output_type": "execute_result"
    }
   ],
   "execution_count": 56
  },
  {
   "metadata": {},
   "cell_type": "markdown",
   "source": "2.Створити вектор нульових значень (довжиною b), змінити (b-4) елемент на значення с.",
   "id": "3fbdf1fc119d98c9"
  },
  {
   "metadata": {
    "ExecuteTime": {
     "end_time": "2025-09-21T17:24:46.283361Z",
     "start_time": "2025-09-21T17:24:46.279961Z"
    }
   },
   "cell_type": "code",
   "source": [
    "v2=numpy.zeros(b)\n",
    "v2"
   ],
   "id": "325ba91cb0900b08",
   "outputs": [
    {
     "data": {
      "text/plain": [
       "array([0., 0., 0., 0., 0., 0.])"
      ]
     },
     "execution_count": 94,
     "metadata": {},
     "output_type": "execute_result"
    }
   ],
   "execution_count": 94
  },
  {
   "metadata": {
    "ExecuteTime": {
     "end_time": "2025-09-21T17:24:47.536981Z",
     "start_time": "2025-09-21T17:24:47.532909Z"
    }
   },
   "cell_type": "code",
   "source": [
    "v2[4]=c\n",
    "v2"
   ],
   "id": "4da6fea45e7142c8",
   "outputs": [
    {
     "data": {
      "text/plain": [
       "array([0., 0., 0., 0., 1., 0.])"
      ]
     },
     "execution_count": 95,
     "metadata": {},
     "output_type": "execute_result"
    }
   ],
   "execution_count": 95
  },
  {
   "metadata": {},
   "cell_type": "markdown",
   "source": "3.Створити вектор із значеннями в діапазоні від n до m",
   "id": "f59671ed37de365b"
  },
  {
   "cell_type": "code",
   "id": "e5d1930a8f3d67fc",
   "metadata": {
    "collapsed": true,
    "ExecuteTime": {
     "end_time": "2025-09-21T17:23:09.564315Z",
     "start_time": "2025-09-21T17:23:09.559742Z"
    }
   },
   "source": [
    "v3=numpy.arange(n,m)\n",
    "v3"
   ],
   "outputs": [
    {
     "data": {
      "text/plain": [
       "array([ 1,  2,  3,  4,  5,  6,  7,  8,  9, 10, 11, 12, 13, 14])"
      ]
     },
     "execution_count": 59,
     "metadata": {},
     "output_type": "execute_result"
    }
   ],
   "execution_count": 59
  },
  {
   "metadata": {},
   "cell_type": "markdown",
   "source": "4.Розгорнути вектор (перший елемент стає останнім)",
   "id": "108d4748051623bb"
  },
  {
   "metadata": {
    "ExecuteTime": {
     "end_time": "2025-09-21T17:23:09.622637Z",
     "start_time": "2025-09-21T17:23:09.617237Z"
    }
   },
   "cell_type": "code",
   "source": [
    "f_e=v3[0]\n",
    "v3=v3[1:]+[f_e]\n",
    "v3"
   ],
   "id": "704f86016c2a06a0",
   "outputs": [
    {
     "data": {
      "text/plain": [
       "array([ 3,  4,  5,  6,  7,  8,  9, 10, 11, 12, 13, 14, 15])"
      ]
     },
     "execution_count": 60,
     "metadata": {},
     "output_type": "execute_result"
    }
   ],
   "execution_count": 60
  },
  {
   "cell_type": "markdown",
   "id": "ce3ec94599bc0d96",
   "metadata": {},
   "source": [
    "#### Exercises"
   ]
  },
  {
   "cell_type": "code",
   "id": "3fc16bdfc98991b6",
   "metadata": {
    "ExecuteTime": {
     "end_time": "2025-09-21T17:23:09.676859Z",
     "start_time": "2025-09-21T17:23:09.672043Z"
    }
   },
   "source": [
    "# Hello World - variable\n",
    "mine_message = \"Hello World!\"\n",
    "print(mine_message)\n",
    "\n",
    "# One Variable, Two Messages\n",
    "mine_message = \"World Hello!\"\n",
    "print(mine_message)"
   ],
   "outputs": [
    {
     "name": "stdout",
     "output_type": "stream",
     "text": [
      "Hello World!\n",
      "World Hello!\n"
     ]
    }
   ],
   "execution_count": 61
  },
  {
   "cell_type": "code",
   "id": "45aea07611f4a3c3",
   "metadata": {
    "ExecuteTime": {
     "end_time": "2025-09-21T17:23:09.722059Z",
     "start_time": "2025-09-21T17:23:09.719915Z"
    }
   },
   "source": [
    "my_string = \"This is a double-quoted string.\"\n",
    "my_string = 'This is a single-quoted string.'\n",
    "quote = \"Linus Torvalds once said, 'Any program is only as good as it is useful.'\""
   ],
   "outputs": [],
   "execution_count": 62
  },
  {
   "cell_type": "code",
   "id": "be6aad966e179e3",
   "metadata": {
    "ExecuteTime": {
     "end_time": "2025-09-21T17:23:09.773166Z",
     "start_time": "2025-09-21T17:23:09.770353Z"
    }
   },
   "source": [
    "first_name = 'eric'\n",
    "print(first_name)\n",
    "print(first_name.title())"
   ],
   "outputs": [
    {
     "name": "stdout",
     "output_type": "stream",
     "text": [
      "eric\n",
      "Eric\n"
     ]
    }
   ],
   "execution_count": 63
  },
  {
   "cell_type": "code",
   "id": "9810caebb4c3b433",
   "metadata": {
    "ExecuteTime": {
     "end_time": "2025-09-21T17:23:09.860236Z",
     "start_time": "2025-09-21T17:23:09.856326Z"
    }
   },
   "source": [
    "first_name = 'eric'\n",
    "print(first_name)\n",
    "print(first_name.title())\n",
    "print(first_name.upper())\n",
    "\n",
    "first_name = 'Eric'\n",
    "print(first_name.lower())"
   ],
   "outputs": [
    {
     "name": "stdout",
     "output_type": "stream",
     "text": [
      "eric\n",
      "Eric\n",
      "ERIC\n",
      "eric\n"
     ]
    }
   ],
   "execution_count": 64
  },
  {
   "cell_type": "code",
   "id": "25f8e07600cbf0b5",
   "metadata": {
    "ExecuteTime": {
     "end_time": "2025-09-21T17:23:09.877546Z",
     "start_time": "2025-09-21T17:23:09.876078Z"
    }
   },
   "source": [
    "first_name = 'ada'\n",
    "last_name = 'lovelace'\n",
    "full_name = first_name + ' ' + last_name\n",
    "print(full_name.title())"
   ],
   "outputs": [
    {
     "name": "stdout",
     "output_type": "stream",
     "text": [
      "Ada Lovelace\n"
     ]
    }
   ],
   "execution_count": 65
  },
  {
   "cell_type": "code",
   "id": "e047c5b591b64e95",
   "metadata": {
    "ExecuteTime": {
     "end_time": "2025-09-21T17:23:09.923895Z",
     "start_time": "2025-09-21T17:23:09.922143Z"
    }
   },
   "source": [
    "first_name = 'ada'\n",
    "last_name = 'lovelace'\n",
    "full_name = first_name + ' ' + last_name\n",
    "message = full_name.title() + ' ' + \"was considered the world's first computer programmer.\"\n",
    "print(message)"
   ],
   "outputs": [
    {
     "name": "stdout",
     "output_type": "stream",
     "text": [
      "Ada Lovelace was considered the world's first computer programmer.\n"
     ]
    }
   ],
   "execution_count": 66
  },
  {
   "cell_type": "code",
   "id": "f862d6ef0fccbf50",
   "metadata": {
    "ExecuteTime": {
     "end_time": "2025-09-21T17:23:09.970526Z",
     "start_time": "2025-09-21T17:23:09.968313Z"
    }
   },
   "source": [
    "print(\"Hello everyone!\")\n",
    "print(\"\\tHello everyone!\")\n",
    "print(\"Hello \\teveryone!\")\n",
    "\n",
    "print(\"Hello everyone!\")\n",
    "print(\"\\nHello everyone!\")\n",
    "print(\"Hello \\neveryone!\")\n",
    "print(\"\\n\\n\\nHello everyone!\")"
   ],
   "outputs": [
    {
     "name": "stdout",
     "output_type": "stream",
     "text": [
      "Hello everyone!\n",
      "\tHello everyone!\n",
      "Hello \teveryone!\n",
      "Hello everyone!\n",
      "\n",
      "Hello everyone!\n",
      "Hello \n",
      "everyone!\n",
      "\n",
      "\n",
      "\n",
      "Hello everyone!\n"
     ]
    }
   ],
   "execution_count": 67
  },
  {
   "cell_type": "code",
   "id": "3548ea06b00924b6",
   "metadata": {
    "ExecuteTime": {
     "end_time": "2025-09-21T17:23:10.021628Z",
     "start_time": "2025-09-21T17:23:10.017941Z"
    }
   },
   "source": [
    "name = ' eric '\n",
    "print(name.lstrip())\n",
    "print(name.rstrip())\n",
    "print(name.strip())"
   ],
   "outputs": [
    {
     "name": "stdout",
     "output_type": "stream",
     "text": [
      "eric \n",
      " eric\n",
      "eric\n"
     ]
    }
   ],
   "execution_count": 68
  },
  {
   "cell_type": "markdown",
   "id": "e3b6f463ebdc6395",
   "metadata": {},
   "source": [
    "#### Exercises"
   ]
  },
  {
   "cell_type": "code",
   "id": "698d5bb558212ed0",
   "metadata": {
    "ExecuteTime": {
     "end_time": "2025-09-21T17:23:10.068880Z",
     "start_time": "2025-09-21T17:23:10.065837Z"
    }
   },
   "source": [
    "# Someone Said\n",
    "st_quote = \"“If you wait by the river long enough, the bodies of your enemies will float by.” ― Sun Tzu \"\n",
    "print(st_quote)\n",
    "\n",
    "# First Name Cases\n",
    "f_name = \"vladyslav\"\n",
    "print(f_name.lower())\n",
    "print(f_name.title())\n",
    "print(f_name.upper())\n",
    "\n",
    "# Full Name\n",
    "first_name = \"Vladyslav\"\n",
    "last_name = \"Bliniaev\"\n",
    "full_name = first_name + ' ' + last_name\n",
    "print(full_name)\n",
    "\n",
    "# About This Person\n",
    "first_name = \"Sun\"\n",
    "last_name = \"Tzu\"\n",
    "full_name = first_name + ' ' + last_name\n",
    "message = full_name.title() + ' ' + \"was a Chinese philosopher\"\n",
    "print(message)\n",
    "\n",
    "# Name Strip\n",
    "name = \" Vladyslav \"\n",
    "print(name.lstrip())\n",
    "print(name.rstrip())\n",
    "print(name.strip())"
   ],
   "outputs": [
    {
     "name": "stdout",
     "output_type": "stream",
     "text": [
      "“If you wait by the river long enough, the bodies of your enemies will float by.” ― Sun Tzu \n",
      "vladyslav\n",
      "Vladyslav\n",
      "VLADYSLAV\n",
      "Vladyslav Bliniaev\n",
      "Sun Tzu was a Chinese philosopher\n",
      "Vladyslav \n",
      " Vladyslav\n",
      "Vladyslav\n"
     ]
    }
   ],
   "execution_count": 69
  },
  {
   "cell_type": "code",
   "id": "c1e09a3428626289",
   "metadata": {
    "ExecuteTime": {
     "end_time": "2025-09-21T17:23:10.122556Z",
     "start_time": "2025-09-21T17:23:10.120263Z"
    }
   },
   "source": [
    "print(3 + 2)\n",
    "print(3 - 2)\n",
    "print(3 * 2)\n",
    "print(3 / 2)\n",
    "print(3 ** 2)\n",
    "\n",
    "standard_order = 2 + 3 * 4\n",
    "print(standard_order)\n",
    "my_order = (2 + 3) * 4\n",
    "print(my_order)\n",
    "\n",
    "print(0.1 + 0.1)"
   ],
   "outputs": [
    {
     "name": "stdout",
     "output_type": "stream",
     "text": [
      "5\n",
      "1\n",
      "6\n",
      "1.5\n",
      "9\n",
      "14\n",
      "20\n",
      "0.2\n"
     ]
    }
   ],
   "execution_count": 70
  },
  {
   "cell_type": "code",
   "id": "2859981e74c85209",
   "metadata": {
    "ExecuteTime": {
     "end_time": "2025-09-21T17:23:10.170424Z",
     "start_time": "2025-09-21T17:23:10.168224Z"
    }
   },
   "source": [
    "# This line is a comment.\n",
    "print(\"This line is not a comment, it is code.\")"
   ],
   "outputs": [
    {
     "name": "stdout",
     "output_type": "stream",
     "text": [
      "This line is not a comment, it is code.\n"
     ]
    }
   ],
   "execution_count": 71
  },
  {
   "cell_type": "markdown",
   "id": "556506bffb7bcba4",
   "metadata": {},
   "source": [
    "#### Exercises"
   ]
  },
  {
   "cell_type": "code",
   "id": "7cf70dd3b0ee166",
   "metadata": {
    "ExecuteTime": {
     "end_time": "2025-09-21T17:23:10.215463Z",
     "start_time": "2025-09-21T17:23:10.213709Z"
    }
   },
   "source": [
    "# Arithmetic\n",
    "print(1 + 1)\n",
    "print(1 - 1)\n",
    "print(1 * 1)\n",
    "print(1 / 1)\n",
    "print(1 ** 1)\n",
    "\n",
    "print(\"\\n\")\n",
    "\n",
    "# Order of Operations\n",
    "print(4 + 8 / 2 * 4)\n",
    "print((4 + 8) / (2 * 4))"
   ],
   "outputs": [
    {
     "name": "stdout",
     "output_type": "stream",
     "text": [
      "2\n",
      "0\n",
      "1\n",
      "1.0\n",
      "1\n",
      "\n",
      "\n",
      "20.0\n",
      "1.5\n"
     ]
    }
   ],
   "execution_count": 72
  },
  {
   "cell_type": "markdown",
   "id": "4f7f0dfa16b957fe",
   "metadata": {},
   "source": [
    "#### Part 2: Introducing Functions"
   ]
  },
  {
   "cell_type": "code",
   "id": "8e527c6297c30042",
   "metadata": {
    "ExecuteTime": {
     "end_time": "2025-09-21T17:23:10.268280Z",
     "start_time": "2025-09-21T17:23:10.264341Z"
    }
   },
   "source": [
    "def thank_you(name):\n",
    "    # This function prints a two-line personalized thank you message.\n",
    "    print(\"\\nYou are doing good work, %s!\" % name)\n",
    "    print(\"Thank you very much for your efforts on this project.\")\n",
    "\n",
    "\n",
    "thank_you('Adriana')\n",
    "thank_you('Billy')\n",
    "thank_you('Caroline')"
   ],
   "outputs": [
    {
     "name": "stdout",
     "output_type": "stream",
     "text": [
      "\n",
      "You are doing good work, Adriana!\n",
      "Thank you very much for your efforts on this project.\n",
      "\n",
      "You are doing good work, Billy!\n",
      "Thank you very much for your efforts on this project.\n",
      "\n",
      "You are doing good work, Caroline!\n",
      "Thank you very much for your efforts on this project.\n"
     ]
    }
   ],
   "execution_count": 73
  },
  {
   "cell_type": "code",
   "id": "9aeb442f4e156a29",
   "metadata": {
    "ExecuteTime": {
     "end_time": "2025-09-21T17:23:10.323055Z",
     "start_time": "2025-09-21T17:23:10.318933Z"
    }
   },
   "source": [
    "def get_number_word(number):\n",
    "    # Takes in a numerical value, and returns\n",
    "    # the word corresponding to that number.\n",
    "    if number == 0:\n",
    "        return 'zero'\n",
    "    elif number == 1:\n",
    "        return 'one'\n",
    "    elif number == 2:\n",
    "        return 'two'\n",
    "    elif number == 3:\n",
    "        return 'three'\n",
    "    return None\n",
    "\n",
    "\n",
    "# Let's try out our function.\n",
    "for current_number in range(0, 4):\n",
    "    number_word = get_number_word(current_number)\n",
    "    print(current_number, number_word)"
   ],
   "outputs": [
    {
     "name": "stdout",
     "output_type": "stream",
     "text": [
      "0 zero\n",
      "1 one\n",
      "2 two\n",
      "3 three\n"
     ]
    }
   ],
   "execution_count": 74
  },
  {
   "cell_type": "markdown",
   "id": "651fc6c501fe6029",
   "metadata": {},
   "source": [
    "#### Part 3: Lists and Tuples"
   ]
  },
  {
   "cell_type": "code",
   "id": "7f9ff6379e54396e",
   "metadata": {
    "ExecuteTime": {
     "end_time": "2025-09-21T17:23:10.379301Z",
     "start_time": "2025-09-21T17:23:10.374588Z"
    }
   },
   "source": [
    "students = ['bernice', 'aaron', 'cody']\n",
    "for student in students:\n",
    "    print(\"Hello, \" + student.title() + \"!\")"
   ],
   "outputs": [
    {
     "name": "stdout",
     "output_type": "stream",
     "text": [
      "Hello, Bernice!\n",
      "Hello, Aaron!\n",
      "Hello, Cody!\n"
     ]
    }
   ],
   "execution_count": 75
  },
  {
   "cell_type": "code",
   "id": "71c70dd31dabfa6f",
   "metadata": {
    "ExecuteTime": {
     "end_time": "2025-09-21T17:23:10.432489Z",
     "start_time": "2025-09-21T17:23:10.429988Z"
    }
   },
   "source": [
    "dogs = ['border collie', 'australian cattle dog', 'labrador retriever']"
   ],
   "outputs": [],
   "execution_count": 76
  },
  {
   "cell_type": "code",
   "id": "f0a7e375afc8dfdb",
   "metadata": {
    "ExecuteTime": {
     "end_time": "2025-09-21T17:23:10.489496Z",
     "start_time": "2025-09-21T17:23:10.483799Z"
    }
   },
   "source": [
    "dogs = ['border collie', 'australian cattle dog', 'labrador retriever']\n",
    "dog = dogs[0]\n",
    "print(dog.title())"
   ],
   "outputs": [
    {
     "name": "stdout",
     "output_type": "stream",
     "text": [
      "Border Collie\n"
     ]
    }
   ],
   "execution_count": 77
  },
  {
   "cell_type": "code",
   "id": "f2253643bb66a541",
   "metadata": {
    "ExecuteTime": {
     "end_time": "2025-09-21T17:23:10.547548Z",
     "start_time": "2025-09-21T17:23:10.542423Z"
    }
   },
   "source": [
    "dogs = ['border collie', 'australian cattle dog', 'labrador retriever']\n",
    "dog = dogs[-1]\n",
    "print(dog.title())"
   ],
   "outputs": [
    {
     "name": "stdout",
     "output_type": "stream",
     "text": [
      "Labrador Retriever\n"
     ]
    }
   ],
   "execution_count": 78
  },
  {
   "cell_type": "code",
   "id": "5a36e3a7982c4e85",
   "metadata": {
    "ExecuteTime": {
     "end_time": "2025-09-21T17:23:10.604246Z",
     "start_time": "2025-09-21T17:23:10.598693Z"
    }
   },
   "source": [
    "dogs = ['border collie', 'australian cattle dog', 'labrador retriever']\n",
    "for dog in dogs:\n",
    "    print(dog)"
   ],
   "outputs": [
    {
     "name": "stdout",
     "output_type": "stream",
     "text": [
      "border collie\n",
      "australian cattle dog\n",
      "labrador retriever\n"
     ]
    }
   ],
   "execution_count": 79
  },
  {
   "cell_type": "code",
   "id": "c901c23da3e9a972",
   "metadata": {
    "ExecuteTime": {
     "end_time": "2025-09-21T17:23:10.660752Z",
     "start_time": "2025-09-21T17:23:10.655352Z"
    }
   },
   "source": [
    "dogs = ['border collie', 'australian cattle dog', 'labrador retriever']\n",
    "print(\"Results for the dog show are as follows:\\n\")\n",
    "for index, dog in enumerate(dogs):\n",
    "    place = str(index)\n",
    "    print(place + \" - \" + dog.title())"
   ],
   "outputs": [
    {
     "name": "stdout",
     "output_type": "stream",
     "text": [
      "Results for the dog show are as follows:\n",
      "\n",
      "0 - Border Collie\n",
      "1 - Australian Cattle Dog\n",
      "2 - Labrador Retriever\n"
     ]
    }
   ],
   "execution_count": 80
  },
  {
   "cell_type": "markdown",
   "id": "e1b8bcfe1db034bc",
   "metadata": {},
   "source": [
    "### Завдання 2 "
   ]
  },
  {
   "cell_type": "markdown",
   "id": "82a14cac6e49ce",
   "metadata": {},
   "source": [
    "### <center> Тема «Основи Python. Списки і словники»  <center>"
   ]
  },
  {
   "cell_type": "markdown",
   "id": "dc68571c17eea404",
   "metadata": {},
   "source": [
    "Завдання 1"
   ]
  },
  {
   "cell_type": "code",
   "id": "894929e007003020",
   "metadata": {
    "ExecuteTime": {
     "end_time": "2025-09-21T17:23:10.712043Z",
     "start_time": "2025-09-21T17:23:10.707716Z"
    }
   },
   "source": [
    "def print_list(colors_list):\n",
    "    if not colors_list:\n",
    "        print(\"No more colors\")\n",
    "    else:\n",
    "        for ind, col in enumerate(colors_list):\n",
    "            plc = str(ind)\n",
    "            print(plc + \" - \" + col)"
   ],
   "outputs": [],
   "execution_count": 81
  },
  {
   "cell_type": "code",
   "id": "8d42c2740defc13f",
   "metadata": {
    "ExecuteTime": {
     "end_time": "2025-09-21T17:23:10.766969Z",
     "start_time": "2025-09-21T17:23:10.762562Z"
    }
   },
   "source": [
    "colors = ['blue', 'green']\n",
    "print_list(colors)"
   ],
   "outputs": [
    {
     "name": "stdout",
     "output_type": "stream",
     "text": [
      "0 - blue\n",
      "1 - green\n"
     ]
    }
   ],
   "execution_count": 82
  },
  {
   "cell_type": "code",
   "id": "5702829f6a747fff",
   "metadata": {
    "ExecuteTime": {
     "end_time": "2025-09-21T17:23:10.821527Z",
     "start_time": "2025-09-21T17:23:10.817319Z"
    }
   },
   "source": [
    "colors.index('blue')"
   ],
   "outputs": [
    {
     "data": {
      "text/plain": [
       "0"
      ]
     },
     "execution_count": 83,
     "metadata": {},
     "output_type": "execute_result"
    }
   ],
   "execution_count": 83
  },
  {
   "cell_type": "code",
   "id": "2d706851bca0b55f",
   "metadata": {
    "ExecuteTime": {
     "end_time": "2025-09-21T17:23:10.878079Z",
     "start_time": "2025-09-21T17:23:10.873934Z"
    }
   },
   "source": [
    "colors.append('red')\n",
    "colors.insert(0, 'white')\n",
    "print_list(colors)"
   ],
   "outputs": [
    {
     "name": "stdout",
     "output_type": "stream",
     "text": [
      "0 - white\n",
      "1 - blue\n",
      "2 - green\n",
      "3 - red\n"
     ]
    }
   ],
   "execution_count": 84
  },
  {
   "cell_type": "code",
   "id": "498808df9342bd18",
   "metadata": {
    "ExecuteTime": {
     "end_time": "2025-09-21T17:23:10.926664Z",
     "start_time": "2025-09-21T17:23:10.923650Z"
    }
   },
   "source": [
    "colors.pop(-1)\n",
    "colors.pop(1)\n",
    "print_list(colors)"
   ],
   "outputs": [
    {
     "name": "stdout",
     "output_type": "stream",
     "text": [
      "0 - white\n",
      "1 - green\n"
     ]
    }
   ],
   "execution_count": 85
  },
  {
   "cell_type": "code",
   "id": "20ae39ee63d0f57",
   "metadata": {
    "ExecuteTime": {
     "end_time": "2025-09-21T17:23:10.990552Z",
     "start_time": "2025-09-21T17:23:10.988555Z"
    }
   },
   "source": [
    "colors.remove('green')\n",
    "colors.pop(0)\n",
    "print_list(colors)"
   ],
   "outputs": [
    {
     "name": "stdout",
     "output_type": "stream",
     "text": [
      "No more colors\n"
     ]
    }
   ],
   "execution_count": 86
  },
  {
   "cell_type": "markdown",
   "id": "2405a145e8d69ef",
   "metadata": {},
   "source": [
    "Завдання 2"
   ]
  },
  {
   "cell_type": "markdown",
   "id": "497f577c24ddc0e7",
   "metadata": {},
   "source": "№ варіанта - 3"
  },
  {
   "cell_type": "markdown",
   "id": "20639dadd968dcf8",
   "metadata": {},
   "source": [
    "> Створіть словник для зберігання інформації про клієнта: прізвище, ім'я, дата народження, e-mail, стать, країна проживання, місто.\n",
    "> Виведіть кожен фрагмент інформації, що зберігається в словнику."
   ]
  },
  {
   "metadata": {
    "ExecuteTime": {
     "end_time": "2025-09-21T17:23:11.036471Z",
     "start_time": "2025-09-21T17:23:11.035020Z"
    }
   },
   "cell_type": "code",
   "source": [
    "def print_client(dct):\n",
    "    for head, client_value in dct.items():\n",
    "        print(f\"{head.title()} - {client_value}\")"
   ],
   "id": "a485d5e4b624264",
   "outputs": [],
   "execution_count": 87
  },
  {
   "metadata": {
    "ExecuteTime": {
     "end_time": "2025-09-21T17:23:11.088952Z",
     "start_time": "2025-09-21T17:23:11.087079Z"
    }
   },
   "cell_type": "code",
   "source": [
    "client = {\n",
    "    \"name\": \"First Name\",\n",
    "    \"surname\": \"Last Name\",\n",
    "    \"year\": \"1.1.2000\",\n",
    "    \"email\": \"test@gmail.com\",\n",
    "    \"sex\": \"Male\",\n",
    "    \"country\": \"United States\",\n",
    "    \"city\": \"New York\"\n",
    "}"
   ],
   "id": "b5d4b3971a61e859",
   "outputs": [],
   "execution_count": 88
  },
  {
   "metadata": {
    "ExecuteTime": {
     "end_time": "2025-09-21T17:23:11.145931Z",
     "start_time": "2025-09-21T17:23:11.140261Z"
    }
   },
   "cell_type": "code",
   "source": "print_client(client)",
   "id": "52187fd349588020",
   "outputs": [
    {
     "name": "stdout",
     "output_type": "stream",
     "text": [
      "Name - First Name\n",
      "Surname - Last Name\n",
      "Year - 1.1.2000\n",
      "Email - test@gmail.com\n",
      "Sex - Male\n",
      "Country - United States\n",
      "City - New York\n"
     ]
    }
   ],
   "execution_count": 89
  },
  {
   "metadata": {
    "ExecuteTime": {
     "end_time": "2025-09-21T17:23:11.200674Z",
     "start_time": "2025-09-21T17:23:11.196216Z"
    }
   },
   "cell_type": "code",
   "source": "N = 0",
   "id": "783530b9625bb861",
   "outputs": [],
   "execution_count": 90
  },
  {
   "metadata": {
    "ExecuteTime": {
     "end_time": "2025-09-21T17:23:11.252933Z",
     "start_time": "2025-09-21T17:23:11.246964Z"
    }
   },
   "cell_type": "code",
   "source": [
    "def get_clients():\n",
    "    while True:\n",
    "        num = input(\"Number of clients: \")\n",
    "        try:\n",
    "            test_client_list = int(num)\n",
    "            if test_client_list > N:\n",
    "                return test_client_list\n",
    "            else:\n",
    "                print(\"The number must be greater than zero\")\n",
    "        except ValueError:\n",
    "            print(\"Invalid input\")"
   ],
   "id": "bf5ea91d395953b2",
   "outputs": [],
   "execution_count": 91
  },
  {
   "metadata": {
    "ExecuteTime": {
     "end_time": "2025-09-21T17:23:12.360883Z",
     "start_time": "2025-09-21T17:23:11.303105Z"
    }
   },
   "cell_type": "code",
   "source": [
    "client_list = []\n",
    "num_clients = get_clients()\n",
    "print(f\"You entered: {num_clients}\")\n",
    "\n",
    "for i in range(1, num_clients + 1):\n",
    "    t_dict = {}\n",
    "    for key in client:\n",
    "        t_dict[key] = input(f\"Enter for client {i} {key.title()}: \")\n",
    "    client_list.append(t_dict)"
   ],
   "id": "3abd48f5b80e2353",
   "outputs": [
    {
     "ename": "KeyboardInterrupt",
     "evalue": "Interrupted by user",
     "output_type": "error",
     "traceback": [
      "\u001B[31m---------------------------------------------------------------------------\u001B[39m",
      "\u001B[31mKeyboardInterrupt\u001B[39m                         Traceback (most recent call last)",
      "\u001B[36mCell\u001B[39m\u001B[36m \u001B[39m\u001B[32mIn[92]\u001B[39m\u001B[32m, line 2\u001B[39m\n\u001B[32m      1\u001B[39m client_list = []\n\u001B[32m----> \u001B[39m\u001B[32m2\u001B[39m num_clients = \u001B[43mget_clients\u001B[49m\u001B[43m(\u001B[49m\u001B[43m)\u001B[49m\n\u001B[32m      3\u001B[39m \u001B[38;5;28mprint\u001B[39m(\u001B[33mf\u001B[39m\u001B[33m\"\u001B[39m\u001B[33mYou entered: \u001B[39m\u001B[38;5;132;01m{\u001B[39;00mnum_clients\u001B[38;5;132;01m}\u001B[39;00m\u001B[33m\"\u001B[39m)\n\u001B[32m      5\u001B[39m \u001B[38;5;28;01mfor\u001B[39;00m i \u001B[38;5;129;01min\u001B[39;00m \u001B[38;5;28mrange\u001B[39m(\u001B[32m1\u001B[39m, num_clients + \u001B[32m1\u001B[39m):\n",
      "\u001B[36mCell\u001B[39m\u001B[36m \u001B[39m\u001B[32mIn[91]\u001B[39m\u001B[32m, line 3\u001B[39m, in \u001B[36mget_clients\u001B[39m\u001B[34m()\u001B[39m\n\u001B[32m      1\u001B[39m \u001B[38;5;28;01mdef\u001B[39;00m\u001B[38;5;250m \u001B[39m\u001B[34mget_clients\u001B[39m():\n\u001B[32m      2\u001B[39m     \u001B[38;5;28;01mwhile\u001B[39;00m \u001B[38;5;28;01mTrue\u001B[39;00m:\n\u001B[32m----> \u001B[39m\u001B[32m3\u001B[39m         num = \u001B[38;5;28;43minput\u001B[39;49m\u001B[43m(\u001B[49m\u001B[33;43m\"\u001B[39;49m\u001B[33;43mNumber of clients: \u001B[39;49m\u001B[33;43m\"\u001B[39;49m\u001B[43m)\u001B[49m\n\u001B[32m      4\u001B[39m         \u001B[38;5;28;01mtry\u001B[39;00m:\n\u001B[32m      5\u001B[39m             test_client_list = \u001B[38;5;28mint\u001B[39m(num)\n",
      "\u001B[36mFile \u001B[39m\u001B[32m~/code/DataAnalysisPython/.venv/lib/python3.13/site-packages/ipykernel/kernelbase.py:1275\u001B[39m, in \u001B[36mKernel.raw_input\u001B[39m\u001B[34m(self, prompt)\u001B[39m\n\u001B[32m   1273\u001B[39m     msg = \u001B[33m\"\u001B[39m\u001B[33mraw_input was called, but this frontend does not support input requests.\u001B[39m\u001B[33m\"\u001B[39m\n\u001B[32m   1274\u001B[39m     \u001B[38;5;28;01mraise\u001B[39;00m StdinNotImplementedError(msg)\n\u001B[32m-> \u001B[39m\u001B[32m1275\u001B[39m \u001B[38;5;28;01mreturn\u001B[39;00m \u001B[38;5;28;43mself\u001B[39;49m\u001B[43m.\u001B[49m\u001B[43m_input_request\u001B[49m\u001B[43m(\u001B[49m\n\u001B[32m   1276\u001B[39m \u001B[43m    \u001B[49m\u001B[38;5;28;43mstr\u001B[39;49m\u001B[43m(\u001B[49m\u001B[43mprompt\u001B[49m\u001B[43m)\u001B[49m\u001B[43m,\u001B[49m\n\u001B[32m   1277\u001B[39m \u001B[43m    \u001B[49m\u001B[38;5;28;43mself\u001B[39;49m\u001B[43m.\u001B[49m\u001B[43m_parent_ident\u001B[49m\u001B[43m[\u001B[49m\u001B[33;43m\"\u001B[39;49m\u001B[33;43mshell\u001B[39;49m\u001B[33;43m\"\u001B[39;49m\u001B[43m]\u001B[49m\u001B[43m,\u001B[49m\n\u001B[32m   1278\u001B[39m \u001B[43m    \u001B[49m\u001B[38;5;28;43mself\u001B[39;49m\u001B[43m.\u001B[49m\u001B[43mget_parent\u001B[49m\u001B[43m(\u001B[49m\u001B[33;43m\"\u001B[39;49m\u001B[33;43mshell\u001B[39;49m\u001B[33;43m\"\u001B[39;49m\u001B[43m)\u001B[49m\u001B[43m,\u001B[49m\n\u001B[32m   1279\u001B[39m \u001B[43m    \u001B[49m\u001B[43mpassword\u001B[49m\u001B[43m=\u001B[49m\u001B[38;5;28;43;01mFalse\u001B[39;49;00m\u001B[43m,\u001B[49m\n\u001B[32m   1280\u001B[39m \u001B[43m\u001B[49m\u001B[43m)\u001B[49m\n",
      "\u001B[36mFile \u001B[39m\u001B[32m~/code/DataAnalysisPython/.venv/lib/python3.13/site-packages/ipykernel/kernelbase.py:1320\u001B[39m, in \u001B[36mKernel._input_request\u001B[39m\u001B[34m(self, prompt, ident, parent, password)\u001B[39m\n\u001B[32m   1317\u001B[39m \u001B[38;5;28;01mexcept\u001B[39;00m \u001B[38;5;167;01mKeyboardInterrupt\u001B[39;00m:\n\u001B[32m   1318\u001B[39m     \u001B[38;5;66;03m# re-raise KeyboardInterrupt, to truncate traceback\u001B[39;00m\n\u001B[32m   1319\u001B[39m     msg = \u001B[33m\"\u001B[39m\u001B[33mInterrupted by user\u001B[39m\u001B[33m\"\u001B[39m\n\u001B[32m-> \u001B[39m\u001B[32m1320\u001B[39m     \u001B[38;5;28;01mraise\u001B[39;00m \u001B[38;5;167;01mKeyboardInterrupt\u001B[39;00m(msg) \u001B[38;5;28;01mfrom\u001B[39;00m\u001B[38;5;250m \u001B[39m\u001B[38;5;28;01mNone\u001B[39;00m\n\u001B[32m   1321\u001B[39m \u001B[38;5;28;01mexcept\u001B[39;00m \u001B[38;5;167;01mException\u001B[39;00m:\n\u001B[32m   1322\u001B[39m     \u001B[38;5;28mself\u001B[39m.log.warning(\u001B[33m\"\u001B[39m\u001B[33mInvalid Message:\u001B[39m\u001B[33m\"\u001B[39m, exc_info=\u001B[38;5;28;01mTrue\u001B[39;00m)\n",
      "\u001B[31mKeyboardInterrupt\u001B[39m: Interrupted by user"
     ]
    }
   ],
   "execution_count": 92
  },
  {
   "metadata": {
    "ExecuteTime": {
     "end_time": "2025-09-21T17:23:12.376673148Z",
     "start_time": "2025-09-13T10:18:47.433249Z"
    }
   },
   "cell_type": "code",
   "source": [
    "for index, dct in enumerate(client_list, start=1):\n",
    "    print(f\"{index} client:\", dct)"
   ],
   "id": "976d35763024524f",
   "outputs": [
    {
     "name": "stdout",
     "output_type": "stream",
     "text": [
      "1 client: {'name': '1', 'surname': '1', 'year': '1', 'email': '1', 'sex': '1', 'country': '1', 'city': '1'}\n"
     ]
    }
   ],
   "execution_count": 34
  },
  {
   "metadata": {},
   "cell_type": "markdown",
   "source": "Завдання 3",
   "id": "e623a94c1244c011"
  },
  {
   "metadata": {},
   "cell_type": "markdown",
   "source": "№ варіанта - 3",
   "id": "534293cbae0e4102"
  },
  {
   "metadata": {},
   "cell_type": "markdown",
   "source": [
    "> Створіть Основний словник, який містить імена продавців iphone, і модель.\n",
    "> Створіть додатковий словник, який містить назви моделейі ціну.\n",
    "> Вивести імена тих продавців, які продають моделі старше 6 років зціною не більше $500, модель та ціну в порядку зменшення ціни.\n",
    "> Якщо в додатковому словнику є моделі, які не продаються (відсутнів першому словнику), виведіть їх назви списком."
   ],
   "id": "6af311e4dc150db7"
  },
  {
   "metadata": {
    "ExecuteTime": {
     "end_time": "2025-09-21T17:23:12.380096436Z",
     "start_time": "2025-09-13T10:18:47.485258Z"
    }
   },
   "cell_type": "code",
   "source": "from datetime import datetime",
   "id": "72f699611fbcbf69",
   "outputs": [],
   "execution_count": 35
  },
  {
   "metadata": {
    "ExecuteTime": {
     "end_time": "2025-09-21T17:23:12.380806242Z",
     "start_time": "2025-09-13T10:18:47.537076Z"
    }
   },
   "cell_type": "code",
   "source": [
    "seller_dict = {\n",
    "    \"Amazon\": [\"iPhone 12\", \"iPhone 14\"],\n",
    "    \"Apple\": [\"iPhone 16\", \"iPhone 15\"],\n",
    "    \"Walmart\": [\"iPhone 13\", \"iPhone 11\"]\n",
    "}\n",
    "price_dict = {\n",
    "    \"iPhone 1\": [2, 2000],\n",
    "    \"iPhone 11\": [200, 2017],\n",
    "    \"iPhone 12\": [440, 2018],\n",
    "    \"iPhone 13\": [600, 2019],\n",
    "    \"iPhone 14\": [710, 2020],\n",
    "    \"iPhone 15\": [800, 2024],\n",
    "    \"iPhone 16\": [900, 2025]\n",
    "}"
   ],
   "id": "6a3e674bbbb75622",
   "outputs": [],
   "execution_count": 36
  },
  {
   "metadata": {
    "ExecuteTime": {
     "end_time": "2025-09-21T17:23:12.387044517Z",
     "start_time": "2025-09-13T10:18:47.595220Z"
    }
   },
   "cell_type": "code",
   "source": [
    "result = []\n",
    "models = []\n",
    "six_from_year = datetime.now().year - 6\n",
    "\n",
    "for seller, stock in seller_dict.items():\n",
    "    for model in stock:\n",
    "        models.append(model)\n",
    "        price, year = price_dict[model]\n",
    "        if price <= 500 and year <= six_from_year:\n",
    "            result.append((seller, model, price))\n",
    "\n",
    "sorted_result = sorted(result, key=lambda x: x[2], reverse=True)\n",
    "\n",
    "for seller, model, price in sorted_result:\n",
    "    print(f\"{seller}: {model} - ${price}\")\n",
    "\n",
    "old_models = []\n",
    "for model in price_dict.keys():\n",
    "    if model not in models:\n",
    "        old_models.append(model)\n",
    "\n",
    "print(old_models)"
   ],
   "id": "3688b7ac0b99a990",
   "outputs": [
    {
     "name": "stdout",
     "output_type": "stream",
     "text": [
      "Amazon: iPhone 12 - $440\n",
      "Walmart: iPhone 11 - $200\n",
      "['iPhone 1']\n"
     ]
    }
   ],
   "execution_count": 37
  }
 ],
 "metadata": {
  "kernelspec": {
   "display_name": "Python 3",
   "language": "python",
   "name": "python3"
  },
  "language_info": {
   "codemirror_mode": {
    "name": "ipython",
    "version": 2
   },
   "file_extension": ".py",
   "mimetype": "text/x-python",
   "name": "python",
   "nbconvert_exporter": "python",
   "pygments_lexer": "ipython2",
   "version": "2.7.6"
  }
 },
 "nbformat": 4,
 "nbformat_minor": 5
}
