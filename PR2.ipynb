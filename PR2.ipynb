{
 "cells": [
  {
   "cell_type": "markdown",
   "id": "4191c3ae1cfe11d7",
   "metadata": {},
   "source": [
    "### Завдання 1"
   ]
  },
  {
   "cell_type": "code",
   "id": "af9824e30062c2d8",
   "metadata": {
    "ExecuteTime": {
     "end_time": "2025-09-26T14:23:55.064629Z",
     "start_time": "2025-09-26T14:23:55.062903Z"
    }
   },
   "source": [
    "import numpy as np"
   ],
   "outputs": [],
   "execution_count": 26
  },
  {
   "cell_type": "code",
   "id": "8f2702b5dd4b66c2",
   "metadata": {
    "ExecuteTime": {
     "end_time": "2025-09-26T14:23:55.080497Z",
     "start_time": "2025-09-26T14:23:55.074699Z"
    }
   },
   "source": [
    "a = 3\n",
    "b = 6\n",
    "c = 1\n",
    "n = 1\n",
    "m = 15\n"
   ],
   "outputs": [],
   "execution_count": 27
  },
  {
   "cell_type": "markdown",
   "id": "e6ef860283bbbdf7",
   "metadata": {},
   "source": [
    "1.Створити вектор нульових значень (довжиною a)"
   ]
  },
  {
   "cell_type": "code",
   "id": "bcd07e33d25f2e6f",
   "metadata": {
    "ExecuteTime": {
     "end_time": "2025-09-26T14:23:55.124153Z",
     "start_time": "2025-09-26T14:23:55.121731Z"
    }
   },
   "source": [
    "v1 = np.zeros(a)\n",
    "v1"
   ],
   "outputs": [
    {
     "data": {
      "text/plain": [
       "array([0., 0., 0.])"
      ]
     },
     "execution_count": 28,
     "metadata": {},
     "output_type": "execute_result"
    }
   ],
   "execution_count": 28
  },
  {
   "cell_type": "markdown",
   "id": "3fbdf1fc119d98c9",
   "metadata": {},
   "source": [
    "2.Створити вектор нульових значень (довжиною b), змінити (b-4) елемент на значення с."
   ]
  },
  {
   "cell_type": "code",
   "id": "325ba91cb0900b08",
   "metadata": {
    "ExecuteTime": {
     "end_time": "2025-09-26T14:23:55.186331Z",
     "start_time": "2025-09-26T14:23:55.178715Z"
    }
   },
   "source": [
    "v2 = np.zeros(b)\n",
    "v2"
   ],
   "outputs": [
    {
     "data": {
      "text/plain": [
       "array([0., 0., 0., 0., 0., 0.])"
      ]
     },
     "execution_count": 29,
     "metadata": {},
     "output_type": "execute_result"
    }
   ],
   "execution_count": 29
  },
  {
   "cell_type": "code",
   "id": "4da6fea45e7142c8",
   "metadata": {
    "ExecuteTime": {
     "end_time": "2025-09-26T14:23:55.243152Z",
     "start_time": "2025-09-26T14:23:55.240545Z"
    }
   },
   "source": [
    "v2[4] = c\n",
    "v2"
   ],
   "outputs": [
    {
     "data": {
      "text/plain": [
       "array([0., 0., 0., 0., 1., 0.])"
      ]
     },
     "execution_count": 30,
     "metadata": {},
     "output_type": "execute_result"
    }
   ],
   "execution_count": 30
  },
  {
   "cell_type": "markdown",
   "id": "f59671ed37de365b",
   "metadata": {},
   "source": [
    "3.Створити вектор із значеннями в діапазоні від n до m"
   ]
  },
  {
   "cell_type": "code",
   "id": "e5d1930a8f3d67fc",
   "metadata": {
    "collapsed": true,
    "ExecuteTime": {
     "end_time": "2025-09-26T14:23:55.289648Z",
     "start_time": "2025-09-26T14:23:55.287030Z"
    }
   },
   "source": [
    "v3 = np.arange(n,m)\n",
    "v3"
   ],
   "outputs": [
    {
     "data": {
      "text/plain": [
       "array([ 1,  2,  3,  4,  5,  6,  7,  8,  9, 10, 11, 12, 13, 14])"
      ]
     },
     "execution_count": 31,
     "metadata": {},
     "output_type": "execute_result"
    }
   ],
   "execution_count": 31
  },
  {
   "cell_type": "markdown",
   "id": "108d4748051623bb",
   "metadata": {},
   "source": [
    "4.Розгорнути вектор (перший елемент стає останнім)"
   ]
  },
  {
   "cell_type": "code",
   "id": "704f86016c2a06a0",
   "metadata": {
    "ExecuteTime": {
     "end_time": "2025-09-26T14:23:55.336502Z",
     "start_time": "2025-09-26T14:23:55.334565Z"
    }
   },
   "source": [
    "v3 = v3[::-1]\n",
    "v3"
   ],
   "outputs": [
    {
     "data": {
      "text/plain": [
       "array([14, 13, 12, 11, 10,  9,  8,  7,  6,  5,  4,  3,  2,  1])"
      ]
     },
     "execution_count": 32,
     "metadata": {},
     "output_type": "execute_result"
    }
   ],
   "execution_count": 32
  },
  {
   "cell_type": "markdown",
   "id": "ce3ec94599bc0d96",
   "metadata": {},
   "source": [
    "5.Зі списку L=[0,1,2,3,4,5,6,7,8] створити матрицю 3х3"
   ]
  },
  {
   "cell_type": "code",
   "id": "3fc16bdfc98991b6",
   "metadata": {
    "ExecuteTime": {
     "end_time": "2025-09-26T14:23:55.388307Z",
     "start_time": "2025-09-26T14:23:55.384894Z"
    }
   },
   "source": [
    "L = np.array([0,1,2,3,4,5,6,7,8])\n",
    "new_L = L.reshape(3,3)\n",
    "new_L"
   ],
   "outputs": [
    {
     "data": {
      "text/plain": [
       "array([[0, 1, 2],\n",
       "       [3, 4, 5],\n",
       "       [6, 7, 8]])"
      ]
     },
     "execution_count": 33,
     "metadata": {},
     "output_type": "execute_result"
    }
   ],
   "execution_count": 33
  },
  {
   "cell_type": "markdown",
   "id": "61e0e31fb68a8063",
   "metadata": {
    "ExecuteTime": {
     "end_time": "2025-09-21T17:23:09.722059Z",
     "start_time": "2025-09-21T17:23:09.719915Z"
    }
   },
   "source": [
    "6.Створити матрицю 2×3 зі значеннями в діапазоні від 0 до 5"
   ]
  },
  {
   "cell_type": "code",
   "id": "be6aad966e179e3",
   "metadata": {
    "ExecuteTime": {
     "end_time": "2025-09-26T14:23:55.467474Z",
     "start_time": "2025-09-26T14:23:55.464622Z"
    }
   },
   "source": [
    "arr = np.arange(6).reshape(2, 3)\n",
    "print(arr)"
   ],
   "outputs": [
    {
     "name": "stdout",
     "output_type": "stream",
     "text": [
      "[[0 1 2]\n",
      " [3 4 5]]\n"
     ]
    }
   ],
   "execution_count": 34
  },
  {
   "cell_type": "markdown",
   "id": "77118fce2b95332d",
   "metadata": {
    "ExecuteTime": {
     "end_time": "2025-09-21T17:23:09.860236Z",
     "start_time": "2025-09-21T17:23:09.856326Z"
    }
   },
   "source": [
    "7.Створити матрицю a x b з 5 всередині та 1 на межах"
   ]
  },
  {
   "cell_type": "code",
   "id": "25f8e07600cbf0b5",
   "metadata": {
    "ExecuteTime": {
     "end_time": "2025-09-26T14:23:55.514474Z",
     "start_time": "2025-09-26T14:23:55.512409Z"
    }
   },
   "source": [
    "a, b = 5, 4\n",
    "matrix = np.ones((a, b), dtype=np.int64)\n",
    "matrix[1:-1, 1:-1] = 5\n",
    "print(matrix)\n"
   ],
   "outputs": [
    {
     "name": "stdout",
     "output_type": "stream",
     "text": [
      "[[1 1 1 1]\n",
      " [1 5 5 1]\n",
      " [1 5 5 1]\n",
      " [1 5 5 1]\n",
      " [1 1 1 1]]\n"
     ]
    }
   ],
   "execution_count": 35
  },
  {
   "cell_type": "markdown",
   "id": "97b2f0d6b510b5ac",
   "metadata": {
    "ExecuteTime": {
     "end_time": "2025-09-21T17:23:09.923895Z",
     "start_time": "2025-09-21T17:23:09.922143Z"
    }
   },
   "source": [
    "8.Сформувати зрізи для отримання зафарбованих елементів."
   ]
  },
  {
   "cell_type": "code",
   "id": "f862d6ef0fccbf50",
   "metadata": {
    "ExecuteTime": {
     "end_time": "2025-09-26T14:23:55.582590Z",
     "start_time": "2025-09-26T14:23:55.571947Z"
    }
   },
   "source": [
    "arr1 = np.array([2, 3, 6, 8, 11, 34])\n",
    "print(arr1[2:4])\n",
    "\n",
    "arr2 = np.array(\n",
    "    (\n",
    "        [2, 3, 6, 8, 11, 34],\n",
    "        [11, 22, 3, 67, 11, 87],\n",
    "        [3, 6, 3, 11, 89, 14],\n",
    "        [4, 5, 8, 1, 4, 67],\n",
    "    )\n",
    ")\n",
    "print(arr2[0:4, 1:3])\n",
    "print(arr2[0::2, 0:])\n",
    "print(arr2[:, [1, 3, 5]])\n",
    "print(arr2[2, 0:3])\n",
    "print(arr2[1:, 4:])\n"
   ],
   "outputs": [
    {
     "name": "stdout",
     "output_type": "stream",
     "text": [
      "[6 8]\n",
      "[[ 3  6]\n",
      " [22  3]\n",
      " [ 6  3]\n",
      " [ 5  8]]\n",
      "[[ 2  3  6  8 11 34]\n",
      " [ 3  6  3 11 89 14]]\n",
      "[[ 3  8 34]\n",
      " [22 67 87]\n",
      " [ 6 11 14]\n",
      " [ 5  1 67]]\n",
      "[3 6 3]\n",
      "[[11 87]\n",
      " [89 14]\n",
      " [ 4 67]]\n"
     ]
    }
   ],
   "execution_count": 36
  },
  {
   "cell_type": "markdown",
   "id": "4f7f0dfa16b957fe",
   "metadata": {},
   "source": [
    "### Завдання 2. Аналіз клієнтів оператора мобільного зв'язку"
   ]
  },
  {
   "cell_type": "markdown",
   "id": "e003dc3fe48f6708",
   "metadata": {
    "ExecuteTime": {
     "end_time": "2025-09-21T17:23:10.268280Z",
     "start_time": "2025-09-21T17:23:10.264341Z"
    }
   },
   "source": [
    "Задати рядок, що містить імена клієнтів,\n",
    "а також інформацію про тривалість дзвінків цих клієнтів у роумінгу за кожен з\n",
    "останніх 6 місяців; значення варіюються від 100 до 350 хв/міс."
   ]
  },
  {
   "cell_type": "code",
   "id": "a76e33846d65aeb5",
   "metadata": {
    "ExecuteTime": {
     "end_time": "2025-09-26T14:23:55.627035Z",
     "start_time": "2025-09-26T14:23:55.625154Z"
    }
   },
   "source": [
    "C_names = \"Barnes Bob Arthur John Clint Lewin\"\n",
    "arr_names = np.array(C_names.split())"
   ],
   "outputs": [],
   "execution_count": 37
  },
  {
   "cell_type": "markdown",
   "id": "651fc6c501fe6029",
   "metadata": {},
   "source": [
    "1. Згенерувати масив NumPy «Customer’s roaming call duration», який міститиме цю інформацію, використавши відповідний метод модуля випадкових чисел."
   ]
  },
  {
   "metadata": {
    "ExecuteTime": {
     "end_time": "2025-09-26T14:23:55.684288Z",
     "start_time": "2025-09-26T14:23:55.680162Z"
    }
   },
   "cell_type": "code",
   "source": [
    "from numpy.random import default_rng\n",
    "rng = default_rng(2025)\n",
    "call_duration = rng.integers(100, 350, size=(6,6), endpoint=True)\n",
    "print(call_duration)"
   ],
   "id": "9b741eebd77fbfcd",
   "outputs": [
    {
     "name": "stdout",
     "output_type": "stream",
     "text": [
      "[[212 349 349 195 339 307]\n",
      " [260 310 292 344 196 119]\n",
      " [214 179 222 330 342 269]\n",
      " [259 171 103 197 214 157]\n",
      " [299 141 220 138 187 344]\n",
      " [267 206 155 115 321 223]]\n"
     ]
    }
   ],
   "execution_count": 38
  },
  {
   "metadata": {
    "ExecuteTime": {
     "end_time": "2025-09-26T14:23:55.749074Z",
     "start_time": "2025-09-26T14:23:55.741189Z"
    }
   },
   "cell_type": "code",
   "source": [
    "for i, name in enumerate(arr_names):\n",
    "    print(f\"{name}: {call_duration[i]}\")"
   ],
   "id": "4e49f0a0b4bbe351",
   "outputs": [
    {
     "name": "stdout",
     "output_type": "stream",
     "text": [
      "Barnes: [212 349 349 195 339 307]\n",
      "Bob: [260 310 292 344 196 119]\n",
      "Arthur: [214 179 222 330 342 269]\n",
      "John: [259 171 103 197 214 157]\n",
      "Clint: [299 141 220 138 187 344]\n",
      "Lewin: [267 206 155 115 321 223]\n"
     ]
    }
   ],
   "execution_count": 39
  },
  {
   "cell_type": "markdown",
   "id": "971d3714fe0af8f9",
   "metadata": {
    "ExecuteTime": {
     "end_time": "2025-09-21T17:23:10.432489Z",
     "start_time": "2025-09-21T17:23:10.429988Z"
    }
   },
   "source": [
    "2. Вибрати (вивести) з нього всі рядки з інформацією про клієнтів John і\n",
    "Clint."
   ]
  },
  {
   "metadata": {
    "ExecuteTime": {
     "end_time": "2025-09-26T14:23:55.795305Z",
     "start_time": "2025-09-26T14:23:55.792979Z"
    }
   },
   "cell_type": "code",
   "source": [
    "wanted_2 = [\"John\", \"Clint\"]\n",
    "mask = np.isin(arr_names, wanted_2)\n",
    "sel = call_duration[mask]\n",
    "sel"
   ],
   "id": "3469b368ca15954b",
   "outputs": [
    {
     "data": {
      "text/plain": [
       "array([[259, 171, 103, 197, 214, 157],\n",
       "       [299, 141, 220, 138, 187, 344]])"
      ]
     },
     "execution_count": 40,
     "metadata": {},
     "output_type": "execute_result"
    }
   ],
   "execution_count": 40
  },
  {
   "cell_type": "markdown",
   "id": "33895d985fdeb25c",
   "metadata": {
    "ExecuteTime": {
     "end_time": "2025-09-21T17:23:10.547548Z",
     "start_time": "2025-09-21T17:23:10.542423Z"
    }
   },
   "source": "3. Вибрати відомості про всіх клієнтів, окрім Barnes і Bob."
  },
  {
   "metadata": {
    "ExecuteTime": {
     "end_time": "2025-09-26T14:23:55.841491Z",
     "start_time": "2025-09-26T14:23:55.839136Z"
    }
   },
   "cell_type": "code",
   "source": [
    "wanted_3 = [\"Barnes\", \"Bob\"]\n",
    "mask = ~np.isin(arr_names, wanted_3)\n",
    "sel = call_duration[mask]\n",
    "sel"
   ],
   "id": "c660b5071a3a1a1d",
   "outputs": [
    {
     "data": {
      "text/plain": [
       "array([[214, 179, 222, 330, 342, 269],\n",
       "       [259, 171, 103, 197, 214, 157],\n",
       "       [299, 141, 220, 138, 187, 344],\n",
       "       [267, 206, 155, 115, 321, 223]])"
      ]
     },
     "execution_count": 41,
     "metadata": {},
     "output_type": "execute_result"
    }
   ],
   "execution_count": 41
  },
  {
   "cell_type": "markdown",
   "id": "d0e6424a9e0adc08",
   "metadata": {
    "ExecuteTime": {
     "end_time": "2025-09-21T17:23:10.660752Z",
     "start_time": "2025-09-21T17:23:10.655352Z"
    }
   },
   "source": "4. Вивести інформацію про клієнта Bob за період 2–4 місяці."
  },
  {
   "metadata": {
    "ExecuteTime": {
     "end_time": "2025-09-26T14:23:55.888580Z",
     "start_time": "2025-09-26T14:23:55.886220Z"
    }
   },
   "cell_type": "code",
   "source": [
    "wanted_4 = [\"Bob\"]\n",
    "mask = np.isin(arr_names, wanted_4)\n",
    "sel = call_duration[mask]\n",
    "sel[:,1:4]"
   ],
   "id": "b2dacb9e4d77ad33",
   "outputs": [
    {
     "data": {
      "text/plain": [
       "array([[310, 292, 344]])"
      ]
     },
     "execution_count": 42,
     "metadata": {},
     "output_type": "execute_result"
    }
   ],
   "execution_count": 42
  },
  {
   "cell_type": "markdown",
   "id": "e1b8bcfe1db034bc",
   "metadata": {},
   "source": [
    "5. Вивести інформацію про всіх клієнтів, окрім Barnes, за непарні місяці."
   ]
  },
  {
   "metadata": {
    "ExecuteTime": {
     "end_time": "2025-09-26T14:23:55.951323Z",
     "start_time": "2025-09-26T14:23:55.945102Z"
    }
   },
   "cell_type": "code",
   "source": [
    "wanted_5 = [\"Barnes\"]\n",
    "mask = ~np.isin(arr_names, wanted_5)\n",
    "sel = call_duration[mask]\n",
    "sel[:,0::2]"
   ],
   "id": "a95d37d5ac48ec00",
   "outputs": [
    {
     "data": {
      "text/plain": [
       "array([[260, 292, 196],\n",
       "       [214, 222, 342],\n",
       "       [259, 103, 214],\n",
       "       [299, 220, 187],\n",
       "       [267, 155, 321]])"
      ]
     },
     "execution_count": 43,
     "metadata": {},
     "output_type": "execute_result"
    }
   ],
   "execution_count": 43
  },
  {
   "cell_type": "markdown",
   "id": "dc68571c17eea404",
   "metadata": {},
   "source": [
    "6. Вартість хвилини розмови в роумінгу становить 1,6 $. Створити новий масив\n",
    "NumPy «Customer’s roaming call cost», що міститиме витрати кожного клієнта в певному\n",
    "місяці на основі даних з масиву «Customer’s roaming call duration»."
   ]
  },
  {
   "metadata": {
    "ExecuteTime": {
     "end_time": "2025-09-26T14:23:56.011208Z",
     "start_time": "2025-09-26T14:23:56.005952Z"
    }
   },
   "cell_type": "code",
   "source": [
    "call_cost = call_duration * 1.6\n",
    "for i, name in enumerate(arr_names):\n",
    "    print(f\"{name}: {call_cost[i]}\")"
   ],
   "id": "a00fa76aadd45e05",
   "outputs": [
    {
     "name": "stdout",
     "output_type": "stream",
     "text": [
      "Barnes: [339.2 558.4 558.4 312.  542.4 491.2]\n",
      "Bob: [416.  496.  467.2 550.4 313.6 190.4]\n",
      "Arthur: [342.4 286.4 355.2 528.  547.2 430.4]\n",
      "John: [414.4 273.6 164.8 315.2 342.4 251.2]\n",
      "Clint: [478.4 225.6 352.  220.8 299.2 550.4]\n",
      "Lewin: [427.2 329.6 248.  184.  513.6 356.8]\n"
     ]
    }
   ],
   "execution_count": 44
  },
  {
   "cell_type": "markdown",
   "id": "d21ad270e0739d4c",
   "metadata": {
    "ExecuteTime": {
     "end_time": "2025-09-21T17:23:10.712043Z",
     "start_time": "2025-09-21T17:23:10.707716Z"
    }
   },
   "source": [
    "7. Курс долара становить 40 ₴. Обчислити та вивести загальні витрати клієнта\n",
    "Clint у гривнях."
   ]
  },
  {
   "metadata": {
    "ExecuteTime": {
     "end_time": "2025-09-26T14:23:56.071858Z",
     "start_time": "2025-09-26T14:23:56.066856Z"
    }
   },
   "cell_type": "code",
   "source": [
    "call_cost_hrv = call_cost * 40\n",
    "wanted_7 = [\"Clint\"]\n",
    "mask = np.isin(arr_names, wanted_7)\n",
    "sel = call_cost_hrv[mask]\n",
    "sel"
   ],
   "id": "359cf5ae64a64c8e",
   "outputs": [
    {
     "data": {
      "text/plain": [
       "array([[19136.,  9024., 14080.,  8832., 11968., 22016.]])"
      ]
     },
     "execution_count": 45,
     "metadata": {},
     "output_type": "execute_result"
    }
   ],
   "execution_count": 45
  },
  {
   "cell_type": "markdown",
   "id": "2405a145e8d69ef",
   "metadata": {},
   "source": [
    "### Завдання 3. Робота з модулем random, fancy indexing"
   ]
  },
  {
   "cell_type": "markdown",
   "id": "20639dadd968dcf8",
   "metadata": {},
   "source": [
    "Тривалість розмов клієнтів мобільного оператора в роумінгу за останні M місяців варіюється від 1000 до 4000 хвилин. <br>\n",
    "Припустимо, у компанії обслуговується лише N абонентів. <br>\n",
    "Згенерувати NumPy, що містить інформацію про “Roaming call duration”, використовуючи відповідний метод модуля random. <br>\n",
    "Використовуючи Fancy indexing вибрати підмножину у вказаному порядку, представленому двома 2 NumPy масивами: <br>"
   ]
  },
  {
   "metadata": {
    "ExecuteTime": {
     "end_time": "2025-09-26T14:23:56.131949Z",
     "start_time": "2025-09-26T14:23:56.127247Z"
    }
   },
   "cell_type": "code",
   "source": [
    "i = np.array([[2,4],\n",
    "              [7,8]])\n",
    "j = np.array([[0,2],\n",
    "              [9,6]])"
   ],
   "id": "57ac6810ae363418",
   "outputs": [],
   "execution_count": 46
  },
  {
   "cell_type": "markdown",
   "id": "ab34b7980d95abab",
   "metadata": {},
   "source": "<p> Варіант 3"
  },
  {
   "cell_type": "code",
   "id": "b452c5b085395f23",
   "metadata": {
    "ExecuteTime": {
     "end_time": "2025-09-26T14:23:56.182491Z",
     "start_time": "2025-09-26T14:23:56.179308Z"
    }
   },
   "source": [
    "N = 31\n",
    "M = 62"
   ],
   "outputs": [],
   "execution_count": 47
  },
  {
   "metadata": {
    "ExecuteTime": {
     "end_time": "2025-09-26T14:23:56.242425Z",
     "start_time": "2025-09-26T14:23:56.239150Z"
    }
   },
   "cell_type": "code",
   "source": [
    "rng = default_rng(2025)\n",
    "call_duration = rng.integers(1000, 4000, size=(N,M), endpoint=True)\n",
    "print(call_duration)\n",
    "print(call_duration[7, 8])"
   ],
   "id": "52e3819a341573ce",
   "outputs": [
    {
     "name": "stdout",
     "output_type": "stream",
     "text": [
      "[[2342 3984 3978 ... 3780 3989 3281]\n",
      " [3586 3346 2389 ... 2200 3846 1420]\n",
      " [1831 2160 3874 ... 3033 2143 2095]\n",
      " ...\n",
      " [1692 1515 3052 ... 1236 3052 3049]\n",
      " [2137 2311 1474 ... 2013 3852 1569]\n",
      " [1851 1668 3996 ... 2863 2923 1215]]\n",
      "1811\n"
     ]
    }
   ],
   "execution_count": 48
  },
  {
   "metadata": {
    "ExecuteTime": {
     "end_time": "2025-09-26T14:23:56.288922Z",
     "start_time": "2025-09-26T14:23:56.287346Z"
    }
   },
   "cell_type": "code",
   "source": [
    "subset = call_duration[i, j]\n",
    "print(subset)"
   ],
   "id": "c27b031376521832",
   "outputs": [
    {
     "name": "stdout",
     "output_type": "stream",
     "text": [
      "[[1831 2642]\n",
      " [1850 2170]]\n"
     ]
    }
   ],
   "execution_count": 49
  }
 ],
 "metadata": {
  "kernelspec": {
   "display_name": "Python 3",
   "language": "python",
   "name": "python3"
  },
  "language_info": {
   "codemirror_mode": {
    "name": "ipython",
    "version": 2
   },
   "file_extension": ".py",
   "mimetype": "text/x-python",
   "name": "python",
   "nbconvert_exporter": "python",
   "pygments_lexer": "ipython2",
   "version": "2.7.6"
  }
 },
 "nbformat": 4,
 "nbformat_minor": 5
}
