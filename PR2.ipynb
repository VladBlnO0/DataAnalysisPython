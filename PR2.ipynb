{
 "cells": [
  {
   "metadata": {},
   "cell_type": "markdown",
   "source": [
    "<center> Практична робота №2 </center>\n",
    "<center> з дисципліни «Аналіз даних з використанням Python» </center>\n",
    "<center> на тему «Основи NumPy: робота з об'єктом ndarray, індексація NumPy масивів» </center>\n",
    "<center> Варіант №3 </center>\n",
    "\n",
    "<div style=\"margin-left: 80%;\"> Виконав: </div>\n",
    "<div style=\"margin-left: 80%;\"> ст. гр. АС-227 </div>\n",
    "<div style=\"margin-left: 80%;\"> Бліняєв В.О. </div>\n",
    "<div style=\"margin-left: 80%;\"> Перевірила: </div>\n",
    "<div style=\"margin-left: 80%;\"> ст. в. Штефан Н.З. </div>\n"
   ],
   "id": "8de401ee7d86c2c2"
  },
  {
   "cell_type": "markdown",
   "id": "4191c3ae1cfe11d7",
   "metadata": {},
   "source": [
    "### Завдання 1"
   ]
  },
  {
   "metadata": {
    "ExecuteTime": {
     "end_time": "2025-09-25T09:48:10.659481Z",
     "start_time": "2025-09-25T09:48:10.657774Z"
    }
   },
   "cell_type": "code",
   "source": "import numpy as np",
   "id": "af9824e30062c2d8",
   "outputs": [],
   "execution_count": 7
  },
  {
   "metadata": {
    "ExecuteTime": {
     "end_time": "2025-09-25T09:48:10.672704Z",
     "start_time": "2025-09-25T09:48:10.670795Z"
    }
   },
   "cell_type": "code",
   "source": [
    "a=3\n",
    "b=6\n",
    "c=1\n",
    "n=1\n",
    "m=15"
   ],
   "id": "8f2702b5dd4b66c2",
   "outputs": [],
   "execution_count": 8
  },
  {
   "metadata": {},
   "cell_type": "markdown",
   "source": "1.Створити вектор нульових значень (довжиною a)",
   "id": "e6ef860283bbbdf7"
  },
  {
   "metadata": {
    "ExecuteTime": {
     "end_time": "2025-09-25T09:48:10.739494Z",
     "start_time": "2025-09-25T09:48:10.729440Z"
    }
   },
   "cell_type": "code",
   "source": [
    "v1=np.zeros(a)\n",
    "v1"
   ],
   "id": "bcd07e33d25f2e6f",
   "outputs": [
    {
     "data": {
      "text/plain": [
       "array([0., 0., 0.])"
      ]
     },
     "execution_count": 9,
     "metadata": {},
     "output_type": "execute_result"
    }
   ],
   "execution_count": 9
  },
  {
   "metadata": {},
   "cell_type": "markdown",
   "source": "2.Створити вектор нульових значень (довжиною b), змінити (b-4) елемент на значення с.",
   "id": "3fbdf1fc119d98c9"
  },
  {
   "metadata": {
    "ExecuteTime": {
     "end_time": "2025-09-25T09:48:10.800974Z",
     "start_time": "2025-09-25T09:48:10.795966Z"
    }
   },
   "cell_type": "code",
   "source": [
    "v2=np.zeros(b)\n",
    "v2"
   ],
   "id": "325ba91cb0900b08",
   "outputs": [
    {
     "data": {
      "text/plain": [
       "array([0., 0., 0., 0., 0., 0.])"
      ]
     },
     "execution_count": 10,
     "metadata": {},
     "output_type": "execute_result"
    }
   ],
   "execution_count": 10
  },
  {
   "metadata": {
    "ExecuteTime": {
     "end_time": "2025-09-25T09:48:10.850624Z",
     "start_time": "2025-09-25T09:48:10.846371Z"
    }
   },
   "cell_type": "code",
   "source": [
    "v2[4]=c\n",
    "v2"
   ],
   "id": "4da6fea45e7142c8",
   "outputs": [
    {
     "data": {
      "text/plain": [
       "array([0., 0., 0., 0., 1., 0.])"
      ]
     },
     "execution_count": 11,
     "metadata": {},
     "output_type": "execute_result"
    }
   ],
   "execution_count": 11
  },
  {
   "metadata": {},
   "cell_type": "markdown",
   "source": "3.Створити вектор із значеннями в діапазоні від n до m",
   "id": "f59671ed37de365b"
  },
  {
   "cell_type": "code",
   "id": "e5d1930a8f3d67fc",
   "metadata": {
    "collapsed": true,
    "ExecuteTime": {
     "end_time": "2025-09-25T09:48:10.900211Z",
     "start_time": "2025-09-25T09:48:10.897213Z"
    }
   },
   "source": [
    "v3=np.arange(n,m)\n",
    "v3"
   ],
   "outputs": [
    {
     "data": {
      "text/plain": [
       "array([ 1,  2,  3,  4,  5,  6,  7,  8,  9, 10, 11, 12, 13, 14])"
      ]
     },
     "execution_count": 12,
     "metadata": {},
     "output_type": "execute_result"
    }
   ],
   "execution_count": 12
  },
  {
   "metadata": {},
   "cell_type": "markdown",
   "source": "4.Розгорнути вектор (перший елемент стає останнім)",
   "id": "108d4748051623bb"
  },
  {
   "metadata": {
    "ExecuteTime": {
     "end_time": "2025-09-25T09:48:10.945962Z",
     "start_time": "2025-09-25T09:48:10.943728Z"
    }
   },
   "cell_type": "code",
   "source": [
    "v3=v3[::-1]\n",
    "v3"
   ],
   "id": "704f86016c2a06a0",
   "outputs": [
    {
     "data": {
      "text/plain": [
       "array([14, 13, 12, 11, 10,  9,  8,  7,  6,  5,  4,  3,  2,  1])"
      ]
     },
     "execution_count": 13,
     "metadata": {},
     "output_type": "execute_result"
    }
   ],
   "execution_count": 13
  },
  {
   "cell_type": "markdown",
   "id": "ce3ec94599bc0d96",
   "metadata": {},
   "source": "5.Зі списку L=[0,1,2,3,4,5,6,7,8] створити матрицю 3х3"
  },
  {
   "cell_type": "code",
   "id": "3fc16bdfc98991b6",
   "metadata": {
    "ExecuteTime": {
     "end_time": "2025-09-25T09:48:10.993640Z",
     "start_time": "2025-09-25T09:48:10.991011Z"
    }
   },
   "source": [
    "L=np.array([0,1,2,3,4,5,6,7,8])\n",
    "new_L = L.reshape(3,3)\n",
    "new_L"
   ],
   "outputs": [
    {
     "data": {
      "text/plain": [
       "array([[0, 1, 2],\n",
       "       [3, 4, 5],\n",
       "       [6, 7, 8]])"
      ]
     },
     "execution_count": 14,
     "metadata": {},
     "output_type": "execute_result"
    }
   ],
   "execution_count": 14
  },
  {
   "metadata": {
    "ExecuteTime": {
     "end_time": "2025-09-21T17:23:09.722059Z",
     "start_time": "2025-09-21T17:23:09.719915Z"
    }
   },
   "cell_type": "markdown",
   "source": "6.Створити матрицю 2×3 зі значеннями в діапазоні від 0 до 5",
   "id": "61e0e31fb68a8063"
  },
  {
   "cell_type": "code",
   "id": "be6aad966e179e3",
   "metadata": {
    "ExecuteTime": {
     "end_time": "2025-09-25T09:54:55.862393Z",
     "start_time": "2025-09-25T09:54:55.857327Z"
    }
   },
   "source": [
    "arr = np.arange(6).reshape(2, 3)\n",
    "print(arr)"
   ],
   "outputs": [
    {
     "name": "stdout",
     "output_type": "stream",
     "text": [
      "[[0 1 2]\n",
      " [3 4 5]]\n"
     ]
    }
   ],
   "execution_count": 38
  },
  {
   "metadata": {
    "ExecuteTime": {
     "end_time": "2025-09-21T17:23:09.860236Z",
     "start_time": "2025-09-21T17:23:09.856326Z"
    }
   },
   "cell_type": "markdown",
   "source": "7.Створити матрицю a x b з 5 всередині та 1 на межах",
   "id": "77118fce2b95332d"
  },
  {
   "cell_type": "code",
   "id": "25f8e07600cbf0b5",
   "metadata": {
    "ExecuteTime": {
     "end_time": "2025-09-25T09:48:11.102840Z",
     "start_time": "2025-09-25T09:48:11.100704Z"
    }
   },
   "source": [
    "first_name = 'ada'\n",
    "last_name = 'lovelace'\n",
    "full_name = first_name + ' ' + last_name\n",
    "print(full_name.title())"
   ],
   "outputs": [
    {
     "name": "stdout",
     "output_type": "stream",
     "text": [
      "Ada Lovelace\n"
     ]
    }
   ],
   "execution_count": 16
  },
  {
   "metadata": {
    "ExecuteTime": {
     "end_time": "2025-09-21T17:23:09.923895Z",
     "start_time": "2025-09-21T17:23:09.922143Z"
    }
   },
   "cell_type": "markdown",
   "source": "8.Сформувати зрізи для отримання зафарбованих елементів.",
   "id": "97b2f0d6b510b5ac"
  },
  {
   "cell_type": "code",
   "id": "f862d6ef0fccbf50",
   "metadata": {
    "ExecuteTime": {
     "end_time": "2025-09-25T10:01:00.591480Z",
     "start_time": "2025-09-25T10:01:00.589625Z"
    }
   },
   "source": [
    "arr1=[2,3,6,8,11,34]\n",
    "arr2=([2,3,6,8,11,34],[11,22,3,67,11,87],[3,6,3,11,89,14],[4,5,8,1,4,67])\n"
   ],
   "outputs": [
    {
     "name": "stdout",
     "output_type": "stream",
     "text": [
      "([2, 3, 6, 8, 11, 34], [11, 22, 3, 67, 11, 87], [3, 6, 3, 11, 89, 14], [4, 5, 8, 1, 4, 67])\n"
     ]
    }
   ],
   "execution_count": 40
  },
  {
   "cell_type": "markdown",
   "id": "4f7f0dfa16b957fe",
   "metadata": {},
   "source": "### Завдання 2. Аналіз клієнтів оператора мобільного зв'язку"
  },
  {
   "metadata": {
    "ExecuteTime": {
     "end_time": "2025-09-21T17:23:10.268280Z",
     "start_time": "2025-09-21T17:23:10.264341Z"
    }
   },
   "cell_type": "markdown",
   "source": [
    "Задати рядок, що містить імена клієнтів, наприклад:\n",
    "C_names = “Barnes Abramson Macduff Johnson Andrews Lewin Brown”,\n",
    "а також інформацію про тривалість дзвінків цих клієнтів у роумінгу за кожен з\n",
    "останніх 6 місяців; значення варіюються від 100 до 350 хв/міс."
   ],
   "id": "e003dc3fe48f6708"
  },
  {
   "cell_type": "code",
   "id": "9aeb442f4e156a29",
   "metadata": {
    "ExecuteTime": {
     "end_time": "2025-09-25T09:48:11.198283Z",
     "start_time": "2025-09-25T09:48:11.196250Z"
    }
   },
   "source": [
    "def get_number_word(number):\n",
    "    # Takes in a numerical value, and returns\n",
    "    # the word corresponding to that number.\n",
    "    if number == 0:\n",
    "        return 'zero'\n",
    "    elif number == 1:\n",
    "        return 'one'\n",
    "    elif number == 2:\n",
    "        return 'two'\n",
    "    elif number == 3:\n",
    "        return 'three'\n",
    "    return None\n",
    "\n",
    "\n",
    "# Let's try out our function.\n",
    "for current_number in range(0, 4):\n",
    "    number_word = get_number_word(current_number)\n",
    "    print(current_number, number_word)"
   ],
   "outputs": [
    {
     "name": "stdout",
     "output_type": "stream",
     "text": [
      "0 zero\n",
      "1 one\n",
      "2 two\n",
      "3 three\n"
     ]
    }
   ],
   "execution_count": 18
  },
  {
   "cell_type": "markdown",
   "id": "651fc6c501fe6029",
   "metadata": {},
   "source": "1. Згенерувати масив NumPy «Customer’s roaming call duration», який міститиме цю інформацію, використавши відповідний метод модуля випадкових чисел."
  },
  {
   "cell_type": "code",
   "id": "7f9ff6379e54396e",
   "metadata": {
    "ExecuteTime": {
     "end_time": "2025-09-25T09:48:11.250225Z",
     "start_time": "2025-09-25T09:48:11.248023Z"
    }
   },
   "source": [
    "students = ['bernice', 'aaron', 'cody']\n",
    "for student in students:\n",
    "    print(\"Hello, \" + student.title() + \"!\")"
   ],
   "outputs": [
    {
     "name": "stdout",
     "output_type": "stream",
     "text": [
      "Hello, Bernice!\n",
      "Hello, Aaron!\n",
      "Hello, Cody!\n"
     ]
    }
   ],
   "execution_count": 19
  },
  {
   "metadata": {
    "ExecuteTime": {
     "end_time": "2025-09-21T17:23:10.432489Z",
     "start_time": "2025-09-21T17:23:10.429988Z"
    }
   },
   "cell_type": "markdown",
   "source": [
    "2. Вибрати (вивести) з нього всі рядки з інформацією про клієнтів Abramson і\n",
    "Johnson."
   ],
   "id": "971d3714fe0af8f9"
  },
  {
   "cell_type": "code",
   "id": "f0a7e375afc8dfdb",
   "metadata": {
    "ExecuteTime": {
     "end_time": "2025-09-25T09:48:11.297479Z",
     "start_time": "2025-09-25T09:48:11.295281Z"
    }
   },
   "source": [
    "dogs = ['border collie', 'australian cattle dog', 'labrador retriever']\n",
    "dog = dogs[0]\n",
    "print(dog.title())"
   ],
   "outputs": [
    {
     "name": "stdout",
     "output_type": "stream",
     "text": [
      "Border Collie\n"
     ]
    }
   ],
   "execution_count": 20
  },
  {
   "metadata": {
    "ExecuteTime": {
     "end_time": "2025-09-21T17:23:10.547548Z",
     "start_time": "2025-09-21T17:23:10.542423Z"
    }
   },
   "cell_type": "markdown",
   "source": "3. Вибрати відомості про всіх клієнтів, окрім Macduff і Lewin.",
   "id": "33895d985fdeb25c"
  },
  {
   "cell_type": "code",
   "id": "5a36e3a7982c4e85",
   "metadata": {
    "ExecuteTime": {
     "end_time": "2025-09-25T09:48:11.358020Z",
     "start_time": "2025-09-25T09:48:11.355840Z"
    }
   },
   "source": [
    "dogs = ['border collie', 'australian cattle dog', 'labrador retriever']\n",
    "for dog in dogs:\n",
    "    print(dog)"
   ],
   "outputs": [
    {
     "name": "stdout",
     "output_type": "stream",
     "text": [
      "border collie\n",
      "australian cattle dog\n",
      "labrador retriever\n"
     ]
    }
   ],
   "execution_count": 21
  },
  {
   "metadata": {
    "ExecuteTime": {
     "end_time": "2025-09-21T17:23:10.660752Z",
     "start_time": "2025-09-21T17:23:10.655352Z"
    }
   },
   "cell_type": "markdown",
   "source": "4. Вивести інформацію про клієнта Brown за період 2–4 місяці.",
   "id": "d0e6424a9e0adc08"
  },
  {
   "cell_type": "markdown",
   "id": "e1b8bcfe1db034bc",
   "metadata": {},
   "source": "5. Вивести інформацію про всіх клієнтів, окрім Barnes, за непарні місяці."
  },
  {
   "cell_type": "markdown",
   "id": "dc68571c17eea404",
   "metadata": {},
   "source": [
    "6. Вартість хвилини розмови в роумінгу становить 1,6 $. Створити новий масив\n",
    "NumPy «Customer’s roaming call cost», що міститиме витрати кожного клієнта в певному\n",
    "місяці на основі даних з масиву «Customer’s roaming call duration»."
   ]
  },
  {
   "metadata": {
    "ExecuteTime": {
     "end_time": "2025-09-21T17:23:10.712043Z",
     "start_time": "2025-09-21T17:23:10.707716Z"
    }
   },
   "cell_type": "markdown",
   "source": [
    "7. Курс долара становить 40 ₴. Обчислити та вивести загальні витрати клієнта\n",
    "Andrews у гривнях."
   ],
   "id": "d21ad270e0739d4c"
  },
  {
   "metadata": {
    "ExecuteTime": {
     "end_time": "2025-09-21T17:23:10.766969Z",
     "start_time": "2025-09-21T17:23:10.762562Z"
    }
   },
   "cell_type": "markdown",
   "source": [
    "У завданнях 2, 3, 4, 6, 7 задати свої імена відповідно до створеного рядка та вартість\n",
    "роумінгу."
   ],
   "id": "7ee354ccddfd12ef"
  },
  {
   "cell_type": "markdown",
   "id": "2405a145e8d69ef",
   "metadata": {},
   "source": "### Завдання 3. Робота з модулем random, fancy indexing"
  },
  {
   "cell_type": "markdown",
   "id": "20639dadd968dcf8",
   "metadata": {},
   "source": [
    "Тривалість розмов клієнтів мобільного оператора в роумінгу за останні M місяців\n",
    "варіюєтьсявід 1000 до 4000 хвилин.\n",
    "Припустимо, у компанії обслуговується лише N абонентів.\n",
    "Згенерувати NumPy, що містить інформацію про “Roaming call duration”,\n",
    "використовуючивідповідний метод модуля random.\n",
    "Використовуючи Fancy indexing вибрати підмножину у вказаному порядку,\n",
    "представленомудвома 2 NumPy масивами:\n",
    "i=[[2,4],[7,8]],\n",
    "j=[[0,2],[9,6]]"
   ]
  },
  {
   "metadata": {},
   "cell_type": "markdown",
   "source": [
    "<p> Варіант 3 </p>\n",
    "<p> N = 31 </p>\n",
    "<p> M = 62 </p>"
   ],
   "id": "ab34b7980d95abab"
  },
  {
   "metadata": {
    "ExecuteTime": {
     "end_time": "2025-09-25T09:48:11.415815Z",
     "start_time": "2025-09-25T09:48:11.409966Z"
    }
   },
   "cell_type": "code",
   "source": [
    "def print_client(dct):\n",
    "    for head, client_value in dct.items():\n",
    "        print(f\"{head.title()} - {client_value}\")"
   ],
   "id": "a485d5e4b624264",
   "outputs": [],
   "execution_count": 22
  },
  {
   "metadata": {
    "ExecuteTime": {
     "end_time": "2025-09-25T09:48:11.469801Z",
     "start_time": "2025-09-25T09:48:11.464869Z"
    }
   },
   "cell_type": "code",
   "source": [
    "client = {\n",
    "    \"name\": \"First Name\",\n",
    "    \"surname\": \"Last Name\",\n",
    "    \"year\": \"1.1.2000\",\n",
    "    \"email\": \"test@gmail.com\",\n",
    "    \"sex\": \"Male\",\n",
    "    \"country\": \"United States\",\n",
    "    \"city\": \"New York\"\n",
    "}"
   ],
   "id": "b5d4b3971a61e859",
   "outputs": [],
   "execution_count": 23
  },
  {
   "metadata": {
    "ExecuteTime": {
     "end_time": "2025-09-25T09:48:11.517019Z",
     "start_time": "2025-09-25T09:48:11.514906Z"
    }
   },
   "cell_type": "code",
   "source": "print_client(client)",
   "id": "52187fd349588020",
   "outputs": [
    {
     "name": "stdout",
     "output_type": "stream",
     "text": [
      "Name - First Name\n",
      "Surname - Last Name\n",
      "Year - 1.1.2000\n",
      "Email - test@gmail.com\n",
      "Sex - Male\n",
      "Country - United States\n",
      "City - New York\n"
     ]
    }
   ],
   "execution_count": 24
  },
  {
   "metadata": {
    "ExecuteTime": {
     "end_time": "2025-09-25T09:48:11.561299Z",
     "start_time": "2025-09-25T09:48:11.559865Z"
    }
   },
   "cell_type": "code",
   "source": "N = 0",
   "id": "783530b9625bb861",
   "outputs": [],
   "execution_count": 25
  },
  {
   "metadata": {
    "ExecuteTime": {
     "end_time": "2025-09-25T09:48:11.616886Z",
     "start_time": "2025-09-25T09:48:11.614712Z"
    }
   },
   "cell_type": "code",
   "source": [
    "def get_clients():\n",
    "    while True:\n",
    "        num = input(\"Number of clients: \")\n",
    "        try:\n",
    "            test_client_list = int(num)\n",
    "            if test_client_list > N:\n",
    "                return test_client_list\n",
    "            else:\n",
    "                print(\"The number must be greater than zero\")\n",
    "        except ValueError:\n",
    "            print(\"Invalid input\")"
   ],
   "id": "bf5ea91d395953b2",
   "outputs": [],
   "execution_count": 26
  },
  {
   "metadata": {
    "ExecuteTime": {
     "end_time": "2025-09-25T09:48:13.066824Z",
     "start_time": "2025-09-25T09:48:11.667878Z"
    }
   },
   "cell_type": "code",
   "source": [
    "client_list = []\n",
    "num_clients = get_clients()\n",
    "print(f\"You entered: {num_clients}\")\n",
    "\n",
    "for i in range(1, num_clients + 1):\n",
    "    t_dict = {}\n",
    "    for key in client:\n",
    "        t_dict[key] = input(f\"Enter for client {i} {key.title()}: \")\n",
    "    client_list.append(t_dict)"
   ],
   "id": "3abd48f5b80e2353",
   "outputs": [
    {
     "ename": "KeyboardInterrupt",
     "evalue": "Interrupted by user",
     "output_type": "error",
     "traceback": [
      "\u001B[31m---------------------------------------------------------------------------\u001B[39m",
      "\u001B[31mKeyboardInterrupt\u001B[39m                         Traceback (most recent call last)",
      "\u001B[36mCell\u001B[39m\u001B[36m \u001B[39m\u001B[32mIn[27]\u001B[39m\u001B[32m, line 2\u001B[39m\n\u001B[32m      1\u001B[39m client_list = []\n\u001B[32m----> \u001B[39m\u001B[32m2\u001B[39m num_clients = \u001B[43mget_clients\u001B[49m\u001B[43m(\u001B[49m\u001B[43m)\u001B[49m\n\u001B[32m      3\u001B[39m \u001B[38;5;28mprint\u001B[39m(\u001B[33mf\u001B[39m\u001B[33m\"\u001B[39m\u001B[33mYou entered: \u001B[39m\u001B[38;5;132;01m{\u001B[39;00mnum_clients\u001B[38;5;132;01m}\u001B[39;00m\u001B[33m\"\u001B[39m)\n\u001B[32m      5\u001B[39m \u001B[38;5;28;01mfor\u001B[39;00m i \u001B[38;5;129;01min\u001B[39;00m \u001B[38;5;28mrange\u001B[39m(\u001B[32m1\u001B[39m, num_clients + \u001B[32m1\u001B[39m):\n",
      "\u001B[36mCell\u001B[39m\u001B[36m \u001B[39m\u001B[32mIn[26]\u001B[39m\u001B[32m, line 3\u001B[39m, in \u001B[36mget_clients\u001B[39m\u001B[34m()\u001B[39m\n\u001B[32m      1\u001B[39m \u001B[38;5;28;01mdef\u001B[39;00m\u001B[38;5;250m \u001B[39m\u001B[34mget_clients\u001B[39m():\n\u001B[32m      2\u001B[39m     \u001B[38;5;28;01mwhile\u001B[39;00m \u001B[38;5;28;01mTrue\u001B[39;00m:\n\u001B[32m----> \u001B[39m\u001B[32m3\u001B[39m         num = \u001B[38;5;28;43minput\u001B[39;49m\u001B[43m(\u001B[49m\u001B[33;43m\"\u001B[39;49m\u001B[33;43mNumber of clients: \u001B[39;49m\u001B[33;43m\"\u001B[39;49m\u001B[43m)\u001B[49m\n\u001B[32m      4\u001B[39m         \u001B[38;5;28;01mtry\u001B[39;00m:\n\u001B[32m      5\u001B[39m             test_client_list = \u001B[38;5;28mint\u001B[39m(num)\n",
      "\u001B[36mFile \u001B[39m\u001B[32m~/code/DataAnalysisPython/.venv/lib/python3.13/site-packages/ipykernel/kernelbase.py:1275\u001B[39m, in \u001B[36mKernel.raw_input\u001B[39m\u001B[34m(self, prompt)\u001B[39m\n\u001B[32m   1273\u001B[39m     msg = \u001B[33m\"\u001B[39m\u001B[33mraw_input was called, but this frontend does not support input requests.\u001B[39m\u001B[33m\"\u001B[39m\n\u001B[32m   1274\u001B[39m     \u001B[38;5;28;01mraise\u001B[39;00m StdinNotImplementedError(msg)\n\u001B[32m-> \u001B[39m\u001B[32m1275\u001B[39m \u001B[38;5;28;01mreturn\u001B[39;00m \u001B[38;5;28;43mself\u001B[39;49m\u001B[43m.\u001B[49m\u001B[43m_input_request\u001B[49m\u001B[43m(\u001B[49m\n\u001B[32m   1276\u001B[39m \u001B[43m    \u001B[49m\u001B[38;5;28;43mstr\u001B[39;49m\u001B[43m(\u001B[49m\u001B[43mprompt\u001B[49m\u001B[43m)\u001B[49m\u001B[43m,\u001B[49m\n\u001B[32m   1277\u001B[39m \u001B[43m    \u001B[49m\u001B[38;5;28;43mself\u001B[39;49m\u001B[43m.\u001B[49m\u001B[43m_parent_ident\u001B[49m\u001B[43m[\u001B[49m\u001B[33;43m\"\u001B[39;49m\u001B[33;43mshell\u001B[39;49m\u001B[33;43m\"\u001B[39;49m\u001B[43m]\u001B[49m\u001B[43m,\u001B[49m\n\u001B[32m   1278\u001B[39m \u001B[43m    \u001B[49m\u001B[38;5;28;43mself\u001B[39;49m\u001B[43m.\u001B[49m\u001B[43mget_parent\u001B[49m\u001B[43m(\u001B[49m\u001B[33;43m\"\u001B[39;49m\u001B[33;43mshell\u001B[39;49m\u001B[33;43m\"\u001B[39;49m\u001B[43m)\u001B[49m\u001B[43m,\u001B[49m\n\u001B[32m   1279\u001B[39m \u001B[43m    \u001B[49m\u001B[43mpassword\u001B[49m\u001B[43m=\u001B[49m\u001B[38;5;28;43;01mFalse\u001B[39;49;00m\u001B[43m,\u001B[49m\n\u001B[32m   1280\u001B[39m \u001B[43m\u001B[49m\u001B[43m)\u001B[49m\n",
      "\u001B[36mFile \u001B[39m\u001B[32m~/code/DataAnalysisPython/.venv/lib/python3.13/site-packages/ipykernel/kernelbase.py:1320\u001B[39m, in \u001B[36mKernel._input_request\u001B[39m\u001B[34m(self, prompt, ident, parent, password)\u001B[39m\n\u001B[32m   1317\u001B[39m \u001B[38;5;28;01mexcept\u001B[39;00m \u001B[38;5;167;01mKeyboardInterrupt\u001B[39;00m:\n\u001B[32m   1318\u001B[39m     \u001B[38;5;66;03m# re-raise KeyboardInterrupt, to truncate traceback\u001B[39;00m\n\u001B[32m   1319\u001B[39m     msg = \u001B[33m\"\u001B[39m\u001B[33mInterrupted by user\u001B[39m\u001B[33m\"\u001B[39m\n\u001B[32m-> \u001B[39m\u001B[32m1320\u001B[39m     \u001B[38;5;28;01mraise\u001B[39;00m \u001B[38;5;167;01mKeyboardInterrupt\u001B[39;00m(msg) \u001B[38;5;28;01mfrom\u001B[39;00m\u001B[38;5;250m \u001B[39m\u001B[38;5;28;01mNone\u001B[39;00m\n\u001B[32m   1321\u001B[39m \u001B[38;5;28;01mexcept\u001B[39;00m \u001B[38;5;167;01mException\u001B[39;00m:\n\u001B[32m   1322\u001B[39m     \u001B[38;5;28mself\u001B[39m.log.warning(\u001B[33m\"\u001B[39m\u001B[33mInvalid Message:\u001B[39m\u001B[33m\"\u001B[39m, exc_info=\u001B[38;5;28;01mTrue\u001B[39;00m)\n",
      "\u001B[31mKeyboardInterrupt\u001B[39m: Interrupted by user"
     ]
    }
   ],
   "execution_count": 27
  },
  {
   "metadata": {
    "ExecuteTime": {
     "end_time": "2025-09-25T09:48:13.075861078Z",
     "start_time": "2025-09-13T10:18:47.433249Z"
    }
   },
   "cell_type": "code",
   "source": [
    "for index, dct in enumerate(client_list, start=1):\n",
    "    print(f\"{index} client:\", dct)"
   ],
   "id": "976d35763024524f",
   "outputs": [
    {
     "name": "stdout",
     "output_type": "stream",
     "text": [
      "1 client: {'name': '1', 'surname': '1', 'year': '1', 'email': '1', 'sex': '1', 'country': '1', 'city': '1'}\n"
     ]
    }
   ],
   "execution_count": 34
  },
  {
   "metadata": {},
   "cell_type": "markdown",
   "source": "Завдання 3",
   "id": "e623a94c1244c011"
  },
  {
   "metadata": {},
   "cell_type": "markdown",
   "source": "№ варіанта - 3",
   "id": "534293cbae0e4102"
  },
  {
   "metadata": {},
   "cell_type": "markdown",
   "source": [
    "> Створіть Основний словник, який містить імена продавців iphone, і модель.\n",
    "> Створіть додатковий словник, який містить назви моделейі ціну.\n",
    "> Вивести імена тих продавців, які продають моделі старше 6 років зціною не більше $500, модель та ціну в порядку зменшення ціни.\n",
    "> Якщо в додатковому словнику є моделі, які не продаються (відсутнів першому словнику), виведіть їх назви списком."
   ],
   "id": "6af311e4dc150db7"
  },
  {
   "metadata": {
    "ExecuteTime": {
     "end_time": "2025-09-25T09:48:13.076304950Z",
     "start_time": "2025-09-13T10:18:47.485258Z"
    }
   },
   "cell_type": "code",
   "source": "from datetime import datetime",
   "id": "72f699611fbcbf69",
   "outputs": [],
   "execution_count": 35
  },
  {
   "metadata": {
    "ExecuteTime": {
     "end_time": "2025-09-25T09:48:13.076574313Z",
     "start_time": "2025-09-13T10:18:47.537076Z"
    }
   },
   "cell_type": "code",
   "source": [
    "seller_dict = {\n",
    "    \"Amazon\": [\"iPhone 12\", \"iPhone 14\"],\n",
    "    \"Apple\": [\"iPhone 16\", \"iPhone 15\"],\n",
    "    \"Walmart\": [\"iPhone 13\", \"iPhone 11\"]\n",
    "}\n",
    "price_dict = {\n",
    "    \"iPhone 1\": [2, 2000],\n",
    "    \"iPhone 11\": [200, 2017],\n",
    "    \"iPhone 12\": [440, 2018],\n",
    "    \"iPhone 13\": [600, 2019],\n",
    "    \"iPhone 14\": [710, 2020],\n",
    "    \"iPhone 15\": [800, 2024],\n",
    "    \"iPhone 16\": [900, 2025]\n",
    "}"
   ],
   "id": "6a3e674bbbb75622",
   "outputs": [],
   "execution_count": 36
  },
  {
   "metadata": {
    "ExecuteTime": {
     "end_time": "2025-09-25T09:48:13.077720653Z",
     "start_time": "2025-09-13T10:18:47.595220Z"
    }
   },
   "cell_type": "code",
   "source": [
    "result = []\n",
    "models = []\n",
    "six_from_year = datetime.now().year - 6\n",
    "\n",
    "for seller, stock in seller_dict.items():\n",
    "    for model in stock:\n",
    "        models.append(model)\n",
    "        price, year = price_dict[model]\n",
    "        if price <= 500 and year <= six_from_year:\n",
    "            result.append((seller, model, price))\n",
    "\n",
    "sorted_result = sorted(result, key=lambda x: x[2], reverse=True)\n",
    "\n",
    "for seller, model, price in sorted_result:\n",
    "    print(f\"{seller}: {model} - ${price}\")\n",
    "\n",
    "old_models = []\n",
    "for model in price_dict.keys():\n",
    "    if model not in models:\n",
    "        old_models.append(model)\n",
    "\n",
    "print(old_models)"
   ],
   "id": "3688b7ac0b99a990",
   "outputs": [
    {
     "name": "stdout",
     "output_type": "stream",
     "text": [
      "Amazon: iPhone 12 - $440\n",
      "Walmart: iPhone 11 - $200\n",
      "['iPhone 1']\n"
     ]
    }
   ],
   "execution_count": 37
  }
 ],
 "metadata": {
  "kernelspec": {
   "display_name": "Python 3",
   "language": "python",
   "name": "python3"
  },
  "language_info": {
   "codemirror_mode": {
    "name": "ipython",
    "version": 2
   },
   "file_extension": ".py",
   "mimetype": "text/x-python",
   "name": "python",
   "nbconvert_exporter": "python",
   "pygments_lexer": "ipython2",
   "version": "2.7.6"
  }
 },
 "nbformat": 4,
 "nbformat_minor": 5
}
